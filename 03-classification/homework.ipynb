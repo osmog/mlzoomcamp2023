{
 "cells": [
  {
   "cell_type": "code",
   "execution_count": 207,
   "metadata": {},
   "outputs": [],
   "source": [
    "import pandas as pd\n",
    "import numpy as np"
   ]
  },
  {
   "cell_type": "markdown",
   "metadata": {},
   "source": [
    "### Dataset"
   ]
  },
  {
   "cell_type": "code",
   "execution_count": 208,
   "metadata": {},
   "outputs": [],
   "source": [
    "!pwsh -Command \"Invoke-WebRequest -Uri https://raw.githubusercontent.com/alexeygrigorev/mlbookcamp-code/master/chapter-02-car-price/data.csv -OutFile data.csv\""
   ]
  },
  {
   "cell_type": "markdown",
   "metadata": {},
   "source": [
    "### Features"
   ]
  },
  {
   "cell_type": "code",
   "execution_count": 209,
   "metadata": {},
   "outputs": [],
   "source": [
    "df_raw = pd.read_csv('data.csv')"
   ]
  },
  {
   "cell_type": "code",
   "execution_count": 210,
   "metadata": {},
   "outputs": [
    {
     "data": {
      "text/html": [
       "<div>\n",
       "<style scoped>\n",
       "    .dataframe tbody tr th:only-of-type {\n",
       "        vertical-align: middle;\n",
       "    }\n",
       "\n",
       "    .dataframe tbody tr th {\n",
       "        vertical-align: top;\n",
       "    }\n",
       "\n",
       "    .dataframe thead th {\n",
       "        text-align: right;\n",
       "    }\n",
       "</style>\n",
       "<table border=\"1\" class=\"dataframe\">\n",
       "  <thead>\n",
       "    <tr style=\"text-align: right;\">\n",
       "      <th></th>\n",
       "      <th>0</th>\n",
       "      <th>1</th>\n",
       "      <th>2</th>\n",
       "      <th>3</th>\n",
       "      <th>4</th>\n",
       "    </tr>\n",
       "  </thead>\n",
       "  <tbody>\n",
       "    <tr>\n",
       "      <th>Make</th>\n",
       "      <td>BMW</td>\n",
       "      <td>BMW</td>\n",
       "      <td>BMW</td>\n",
       "      <td>BMW</td>\n",
       "      <td>BMW</td>\n",
       "    </tr>\n",
       "    <tr>\n",
       "      <th>Model</th>\n",
       "      <td>1 Series M</td>\n",
       "      <td>1 Series</td>\n",
       "      <td>1 Series</td>\n",
       "      <td>1 Series</td>\n",
       "      <td>1 Series</td>\n",
       "    </tr>\n",
       "    <tr>\n",
       "      <th>Year</th>\n",
       "      <td>2011</td>\n",
       "      <td>2011</td>\n",
       "      <td>2011</td>\n",
       "      <td>2011</td>\n",
       "      <td>2011</td>\n",
       "    </tr>\n",
       "    <tr>\n",
       "      <th>Engine Fuel Type</th>\n",
       "      <td>premium unleaded (required)</td>\n",
       "      <td>premium unleaded (required)</td>\n",
       "      <td>premium unleaded (required)</td>\n",
       "      <td>premium unleaded (required)</td>\n",
       "      <td>premium unleaded (required)</td>\n",
       "    </tr>\n",
       "    <tr>\n",
       "      <th>Engine HP</th>\n",
       "      <td>335.0</td>\n",
       "      <td>300.0</td>\n",
       "      <td>300.0</td>\n",
       "      <td>230.0</td>\n",
       "      <td>230.0</td>\n",
       "    </tr>\n",
       "    <tr>\n",
       "      <th>Engine Cylinders</th>\n",
       "      <td>6.0</td>\n",
       "      <td>6.0</td>\n",
       "      <td>6.0</td>\n",
       "      <td>6.0</td>\n",
       "      <td>6.0</td>\n",
       "    </tr>\n",
       "    <tr>\n",
       "      <th>Transmission Type</th>\n",
       "      <td>MANUAL</td>\n",
       "      <td>MANUAL</td>\n",
       "      <td>MANUAL</td>\n",
       "      <td>MANUAL</td>\n",
       "      <td>MANUAL</td>\n",
       "    </tr>\n",
       "    <tr>\n",
       "      <th>Driven_Wheels</th>\n",
       "      <td>rear wheel drive</td>\n",
       "      <td>rear wheel drive</td>\n",
       "      <td>rear wheel drive</td>\n",
       "      <td>rear wheel drive</td>\n",
       "      <td>rear wheel drive</td>\n",
       "    </tr>\n",
       "    <tr>\n",
       "      <th>Number of Doors</th>\n",
       "      <td>2.0</td>\n",
       "      <td>2.0</td>\n",
       "      <td>2.0</td>\n",
       "      <td>2.0</td>\n",
       "      <td>2.0</td>\n",
       "    </tr>\n",
       "    <tr>\n",
       "      <th>Market Category</th>\n",
       "      <td>Factory Tuner,Luxury,High-Performance</td>\n",
       "      <td>Luxury,Performance</td>\n",
       "      <td>Luxury,High-Performance</td>\n",
       "      <td>Luxury,Performance</td>\n",
       "      <td>Luxury</td>\n",
       "    </tr>\n",
       "    <tr>\n",
       "      <th>Vehicle Size</th>\n",
       "      <td>Compact</td>\n",
       "      <td>Compact</td>\n",
       "      <td>Compact</td>\n",
       "      <td>Compact</td>\n",
       "      <td>Compact</td>\n",
       "    </tr>\n",
       "    <tr>\n",
       "      <th>Vehicle Style</th>\n",
       "      <td>Coupe</td>\n",
       "      <td>Convertible</td>\n",
       "      <td>Coupe</td>\n",
       "      <td>Coupe</td>\n",
       "      <td>Convertible</td>\n",
       "    </tr>\n",
       "    <tr>\n",
       "      <th>highway MPG</th>\n",
       "      <td>26</td>\n",
       "      <td>28</td>\n",
       "      <td>28</td>\n",
       "      <td>28</td>\n",
       "      <td>28</td>\n",
       "    </tr>\n",
       "    <tr>\n",
       "      <th>city mpg</th>\n",
       "      <td>19</td>\n",
       "      <td>19</td>\n",
       "      <td>20</td>\n",
       "      <td>18</td>\n",
       "      <td>18</td>\n",
       "    </tr>\n",
       "    <tr>\n",
       "      <th>Popularity</th>\n",
       "      <td>3916</td>\n",
       "      <td>3916</td>\n",
       "      <td>3916</td>\n",
       "      <td>3916</td>\n",
       "      <td>3916</td>\n",
       "    </tr>\n",
       "    <tr>\n",
       "      <th>MSRP</th>\n",
       "      <td>46135</td>\n",
       "      <td>40650</td>\n",
       "      <td>36350</td>\n",
       "      <td>29450</td>\n",
       "      <td>34500</td>\n",
       "    </tr>\n",
       "  </tbody>\n",
       "</table>\n",
       "</div>"
      ],
      "text/plain": [
       "                                                       0  \\\n",
       "Make                                                 BMW   \n",
       "Model                                         1 Series M   \n",
       "Year                                                2011   \n",
       "Engine Fuel Type             premium unleaded (required)   \n",
       "Engine HP                                          335.0   \n",
       "Engine Cylinders                                     6.0   \n",
       "Transmission Type                                 MANUAL   \n",
       "Driven_Wheels                           rear wheel drive   \n",
       "Number of Doors                                      2.0   \n",
       "Market Category    Factory Tuner,Luxury,High-Performance   \n",
       "Vehicle Size                                     Compact   \n",
       "Vehicle Style                                      Coupe   \n",
       "highway MPG                                           26   \n",
       "city mpg                                              19   \n",
       "Popularity                                          3916   \n",
       "MSRP                                               46135   \n",
       "\n",
       "                                             1                            2  \\\n",
       "Make                                       BMW                          BMW   \n",
       "Model                                 1 Series                     1 Series   \n",
       "Year                                      2011                         2011   \n",
       "Engine Fuel Type   premium unleaded (required)  premium unleaded (required)   \n",
       "Engine HP                                300.0                        300.0   \n",
       "Engine Cylinders                           6.0                          6.0   \n",
       "Transmission Type                       MANUAL                       MANUAL   \n",
       "Driven_Wheels                 rear wheel drive             rear wheel drive   \n",
       "Number of Doors                            2.0                          2.0   \n",
       "Market Category             Luxury,Performance      Luxury,High-Performance   \n",
       "Vehicle Size                           Compact                      Compact   \n",
       "Vehicle Style                      Convertible                        Coupe   \n",
       "highway MPG                                 28                           28   \n",
       "city mpg                                    19                           20   \n",
       "Popularity                                3916                         3916   \n",
       "MSRP                                     40650                        36350   \n",
       "\n",
       "                                             3                            4  \n",
       "Make                                       BMW                          BMW  \n",
       "Model                                 1 Series                     1 Series  \n",
       "Year                                      2011                         2011  \n",
       "Engine Fuel Type   premium unleaded (required)  premium unleaded (required)  \n",
       "Engine HP                                230.0                        230.0  \n",
       "Engine Cylinders                           6.0                          6.0  \n",
       "Transmission Type                       MANUAL                       MANUAL  \n",
       "Driven_Wheels                 rear wheel drive             rear wheel drive  \n",
       "Number of Doors                            2.0                          2.0  \n",
       "Market Category             Luxury,Performance                       Luxury  \n",
       "Vehicle Size                           Compact                      Compact  \n",
       "Vehicle Style                            Coupe                  Convertible  \n",
       "highway MPG                                 28                           28  \n",
       "city mpg                                    18                           18  \n",
       "Popularity                                3916                         3916  \n",
       "MSRP                                     29450                        34500  "
      ]
     },
     "execution_count": 210,
     "metadata": {},
     "output_type": "execute_result"
    }
   ],
   "source": [
    "df_raw.head().T"
   ]
  },
  {
   "cell_type": "code",
   "execution_count": 211,
   "metadata": {},
   "outputs": [],
   "source": [
    "columns = pd.Series(['Make','Model','Year','Engine HP','Engine Cylinders','Transmission Type','Vehicle Style','highway MPG','city mpg'])\n",
    "columns_newnames = columns.str.lower().str.replace(' ', '_')"
   ]
  },
  {
   "cell_type": "code",
   "execution_count": 212,
   "metadata": {},
   "outputs": [
    {
     "data": {
      "text/plain": [
       "0                 Make\n",
       "1                Model\n",
       "2                 Year\n",
       "3            Engine HP\n",
       "4     Engine Cylinders\n",
       "5    Transmission Type\n",
       "6        Vehicle Style\n",
       "7          highway MPG\n",
       "8             city mpg\n",
       "dtype: object"
      ]
     },
     "execution_count": 212,
     "metadata": {},
     "output_type": "execute_result"
    }
   ],
   "source": [
    "columns"
   ]
  },
  {
   "cell_type": "code",
   "execution_count": 213,
   "metadata": {},
   "outputs": [
    {
     "data": {
      "text/plain": [
       "0                 make\n",
       "1                model\n",
       "2                 year\n",
       "3            engine_hp\n",
       "4     engine_cylinders\n",
       "5    transmission_type\n",
       "6        vehicle_style\n",
       "7          highway_mpg\n",
       "8             city_mpg\n",
       "dtype: object"
      ]
     },
     "execution_count": 213,
     "metadata": {},
     "output_type": "execute_result"
    }
   ],
   "source": [
    "columns_newnames"
   ]
  },
  {
   "cell_type": "code",
   "execution_count": 214,
   "metadata": {},
   "outputs": [],
   "source": [
    "columns_old_new = dict(zip(columns, columns_newnames))"
   ]
  },
  {
   "cell_type": "code",
   "execution_count": 215,
   "metadata": {},
   "outputs": [
    {
     "data": {
      "text/plain": [
       "{'Make': 'make',\n",
       " 'Model': 'model',\n",
       " 'Year': 'year',\n",
       " 'Engine HP': 'engine_hp',\n",
       " 'Engine Cylinders': 'engine_cylinders',\n",
       " 'Transmission Type': 'transmission_type',\n",
       " 'Vehicle Style': 'vehicle_style',\n",
       " 'highway MPG': 'highway_mpg',\n",
       " 'city mpg': 'city_mpg'}"
      ]
     },
     "execution_count": 215,
     "metadata": {},
     "output_type": "execute_result"
    }
   ],
   "source": [
    "columns_old_new"
   ]
  },
  {
   "cell_type": "markdown",
   "metadata": {},
   "source": [
    "### Data preparation"
   ]
  },
  {
   "cell_type": "code",
   "execution_count": 216,
   "metadata": {},
   "outputs": [],
   "source": [
    "df_raw.rename(columns=columns_old_new, inplace=True)"
   ]
  },
  {
   "cell_type": "code",
   "execution_count": 217,
   "metadata": {},
   "outputs": [],
   "source": [
    "df_raw.rename(columns={'MSRP':'price'}, inplace=True)"
   ]
  },
  {
   "cell_type": "code",
   "execution_count": 218,
   "metadata": {},
   "outputs": [],
   "source": [
    "columns_newnames_list = list(columns_newnames)"
   ]
  },
  {
   "cell_type": "code",
   "execution_count": 219,
   "metadata": {},
   "outputs": [],
   "source": [
    "df = df_raw[columns_newnames_list]"
   ]
  },
  {
   "cell_type": "code",
   "execution_count": 220,
   "metadata": {},
   "outputs": [
    {
     "data": {
      "text/html": [
       "<div>\n",
       "<style scoped>\n",
       "    .dataframe tbody tr th:only-of-type {\n",
       "        vertical-align: middle;\n",
       "    }\n",
       "\n",
       "    .dataframe tbody tr th {\n",
       "        vertical-align: top;\n",
       "    }\n",
       "\n",
       "    .dataframe thead th {\n",
       "        text-align: right;\n",
       "    }\n",
       "</style>\n",
       "<table border=\"1\" class=\"dataframe\">\n",
       "  <thead>\n",
       "    <tr style=\"text-align: right;\">\n",
       "      <th></th>\n",
       "      <th>0</th>\n",
       "      <th>1</th>\n",
       "      <th>2</th>\n",
       "      <th>3</th>\n",
       "      <th>4</th>\n",
       "    </tr>\n",
       "  </thead>\n",
       "  <tbody>\n",
       "    <tr>\n",
       "      <th>make</th>\n",
       "      <td>BMW</td>\n",
       "      <td>BMW</td>\n",
       "      <td>BMW</td>\n",
       "      <td>BMW</td>\n",
       "      <td>BMW</td>\n",
       "    </tr>\n",
       "    <tr>\n",
       "      <th>model</th>\n",
       "      <td>1 Series M</td>\n",
       "      <td>1 Series</td>\n",
       "      <td>1 Series</td>\n",
       "      <td>1 Series</td>\n",
       "      <td>1 Series</td>\n",
       "    </tr>\n",
       "    <tr>\n",
       "      <th>year</th>\n",
       "      <td>2011</td>\n",
       "      <td>2011</td>\n",
       "      <td>2011</td>\n",
       "      <td>2011</td>\n",
       "      <td>2011</td>\n",
       "    </tr>\n",
       "    <tr>\n",
       "      <th>engine_hp</th>\n",
       "      <td>335.0</td>\n",
       "      <td>300.0</td>\n",
       "      <td>300.0</td>\n",
       "      <td>230.0</td>\n",
       "      <td>230.0</td>\n",
       "    </tr>\n",
       "    <tr>\n",
       "      <th>engine_cylinders</th>\n",
       "      <td>6.0</td>\n",
       "      <td>6.0</td>\n",
       "      <td>6.0</td>\n",
       "      <td>6.0</td>\n",
       "      <td>6.0</td>\n",
       "    </tr>\n",
       "    <tr>\n",
       "      <th>transmission_type</th>\n",
       "      <td>MANUAL</td>\n",
       "      <td>MANUAL</td>\n",
       "      <td>MANUAL</td>\n",
       "      <td>MANUAL</td>\n",
       "      <td>MANUAL</td>\n",
       "    </tr>\n",
       "    <tr>\n",
       "      <th>vehicle_style</th>\n",
       "      <td>Coupe</td>\n",
       "      <td>Convertible</td>\n",
       "      <td>Coupe</td>\n",
       "      <td>Coupe</td>\n",
       "      <td>Convertible</td>\n",
       "    </tr>\n",
       "    <tr>\n",
       "      <th>highway_mpg</th>\n",
       "      <td>26</td>\n",
       "      <td>28</td>\n",
       "      <td>28</td>\n",
       "      <td>28</td>\n",
       "      <td>28</td>\n",
       "    </tr>\n",
       "    <tr>\n",
       "      <th>city_mpg</th>\n",
       "      <td>19</td>\n",
       "      <td>19</td>\n",
       "      <td>20</td>\n",
       "      <td>18</td>\n",
       "      <td>18</td>\n",
       "    </tr>\n",
       "  </tbody>\n",
       "</table>\n",
       "</div>"
      ],
      "text/plain": [
       "                            0            1         2         3            4\n",
       "make                      BMW          BMW       BMW       BMW          BMW\n",
       "model              1 Series M     1 Series  1 Series  1 Series     1 Series\n",
       "year                     2011         2011      2011      2011         2011\n",
       "engine_hp               335.0        300.0     300.0     230.0        230.0\n",
       "engine_cylinders          6.0          6.0       6.0       6.0          6.0\n",
       "transmission_type      MANUAL       MANUAL    MANUAL    MANUAL       MANUAL\n",
       "vehicle_style           Coupe  Convertible     Coupe     Coupe  Convertible\n",
       "highway_mpg                26           28        28        28           28\n",
       "city_mpg                   19           19        20        18           18"
      ]
     },
     "execution_count": 220,
     "metadata": {},
     "output_type": "execute_result"
    }
   ],
   "source": [
    "df.head().T"
   ]
  },
  {
   "cell_type": "code",
   "execution_count": 221,
   "metadata": {},
   "outputs": [
    {
     "data": {
      "text/plain": [
       "make                 0\n",
       "model                0\n",
       "year                 0\n",
       "engine_hp            0\n",
       "engine_cylinders     0\n",
       "transmission_type    0\n",
       "vehicle_style        0\n",
       "highway_mpg          0\n",
       "city_mpg             0\n",
       "dtype: int64"
      ]
     },
     "execution_count": 221,
     "metadata": {},
     "output_type": "execute_result"
    }
   ],
   "source": [
    "df = df.fillna(0)\n",
    "df.isnull().sum()"
   ]
  },
  {
   "cell_type": "markdown",
   "metadata": {},
   "source": [
    "### Question 1"
   ]
  },
  {
   "cell_type": "code",
   "execution_count": 222,
   "metadata": {},
   "outputs": [
    {
     "data": {
      "text/plain": [
       "transmission_type\n",
       "AUTOMATIC           8266\n",
       "MANUAL              2935\n",
       "AUTOMATED_MANUAL     626\n",
       "DIRECT_DRIVE          68\n",
       "UNKNOWN               19\n",
       "Name: count, dtype: int64"
      ]
     },
     "execution_count": 222,
     "metadata": {},
     "output_type": "execute_result"
    }
   ],
   "source": [
    "df.transmission_type.value_counts()"
   ]
  },
  {
   "cell_type": "markdown",
   "metadata": {},
   "source": [
    "Answer: AUTOMATIC"
   ]
  },
  {
   "cell_type": "markdown",
   "metadata": {},
   "source": [
    "### Question 2"
   ]
  },
  {
   "cell_type": "code",
   "execution_count": 223,
   "metadata": {},
   "outputs": [],
   "source": [
    "numerrical_columns = list(df.dtypes[(df.dtypes == 'int64') | (df.dtypes == 'float64')].index)"
   ]
  },
  {
   "cell_type": "code",
   "execution_count": 224,
   "metadata": {},
   "outputs": [
    {
     "data": {
      "text/plain": [
       "['year', 'engine_hp', 'engine_cylinders', 'highway_mpg', 'city_mpg']"
      ]
     },
     "execution_count": 224,
     "metadata": {},
     "output_type": "execute_result"
    }
   ],
   "source": [
    "numerrical_columns"
   ]
  },
  {
   "cell_type": "code",
   "execution_count": 225,
   "metadata": {},
   "outputs": [
    {
     "data": {
      "text/plain": [
       "engine_hp           0.650095\n",
       "engine_cylinders    0.526274\n",
       "year                0.227590\n",
       "highway_mpg         0.160043\n",
       "city_mpg            0.157676\n",
       "dtype: float64"
      ]
     },
     "execution_count": 225,
     "metadata": {},
     "output_type": "execute_result"
    }
   ],
   "source": [
    "df[numerrical_columns].corrwith(df_raw.price).abs().sort_values(ascending=False)"
   ]
  },
  {
   "cell_type": "markdown",
   "metadata": {},
   "source": [
    "Answer: engine_hp and engine_cylinders"
   ]
  },
  {
   "cell_type": "code",
   "execution_count": 226,
   "metadata": {},
   "outputs": [],
   "source": [
    "df['above_average'] = (df_raw.price > df_raw.price.mean()).astype(int)"
   ]
  },
  {
   "cell_type": "code",
   "execution_count": 227,
   "metadata": {},
   "outputs": [],
   "source": [
    "#df['price'] = df_raw['price']"
   ]
  },
  {
   "cell_type": "code",
   "execution_count": 228,
   "metadata": {},
   "outputs": [
    {
     "data": {
      "text/html": [
       "<div>\n",
       "<style scoped>\n",
       "    .dataframe tbody tr th:only-of-type {\n",
       "        vertical-align: middle;\n",
       "    }\n",
       "\n",
       "    .dataframe tbody tr th {\n",
       "        vertical-align: top;\n",
       "    }\n",
       "\n",
       "    .dataframe thead th {\n",
       "        text-align: right;\n",
       "    }\n",
       "</style>\n",
       "<table border=\"1\" class=\"dataframe\">\n",
       "  <thead>\n",
       "    <tr style=\"text-align: right;\">\n",
       "      <th></th>\n",
       "      <th>make</th>\n",
       "      <th>model</th>\n",
       "      <th>year</th>\n",
       "      <th>engine_hp</th>\n",
       "      <th>engine_cylinders</th>\n",
       "      <th>transmission_type</th>\n",
       "      <th>vehicle_style</th>\n",
       "      <th>highway_mpg</th>\n",
       "      <th>city_mpg</th>\n",
       "      <th>above_average</th>\n",
       "    </tr>\n",
       "  </thead>\n",
       "  <tbody>\n",
       "    <tr>\n",
       "      <th>0</th>\n",
       "      <td>BMW</td>\n",
       "      <td>1 Series M</td>\n",
       "      <td>2011</td>\n",
       "      <td>335.0</td>\n",
       "      <td>6.0</td>\n",
       "      <td>MANUAL</td>\n",
       "      <td>Coupe</td>\n",
       "      <td>26</td>\n",
       "      <td>19</td>\n",
       "      <td>1</td>\n",
       "    </tr>\n",
       "    <tr>\n",
       "      <th>1</th>\n",
       "      <td>BMW</td>\n",
       "      <td>1 Series</td>\n",
       "      <td>2011</td>\n",
       "      <td>300.0</td>\n",
       "      <td>6.0</td>\n",
       "      <td>MANUAL</td>\n",
       "      <td>Convertible</td>\n",
       "      <td>28</td>\n",
       "      <td>19</td>\n",
       "      <td>1</td>\n",
       "    </tr>\n",
       "    <tr>\n",
       "      <th>2</th>\n",
       "      <td>BMW</td>\n",
       "      <td>1 Series</td>\n",
       "      <td>2011</td>\n",
       "      <td>300.0</td>\n",
       "      <td>6.0</td>\n",
       "      <td>MANUAL</td>\n",
       "      <td>Coupe</td>\n",
       "      <td>28</td>\n",
       "      <td>20</td>\n",
       "      <td>0</td>\n",
       "    </tr>\n",
       "    <tr>\n",
       "      <th>3</th>\n",
       "      <td>BMW</td>\n",
       "      <td>1 Series</td>\n",
       "      <td>2011</td>\n",
       "      <td>230.0</td>\n",
       "      <td>6.0</td>\n",
       "      <td>MANUAL</td>\n",
       "      <td>Coupe</td>\n",
       "      <td>28</td>\n",
       "      <td>18</td>\n",
       "      <td>0</td>\n",
       "    </tr>\n",
       "    <tr>\n",
       "      <th>4</th>\n",
       "      <td>BMW</td>\n",
       "      <td>1 Series</td>\n",
       "      <td>2011</td>\n",
       "      <td>230.0</td>\n",
       "      <td>6.0</td>\n",
       "      <td>MANUAL</td>\n",
       "      <td>Convertible</td>\n",
       "      <td>28</td>\n",
       "      <td>18</td>\n",
       "      <td>0</td>\n",
       "    </tr>\n",
       "  </tbody>\n",
       "</table>\n",
       "</div>"
      ],
      "text/plain": [
       "  make       model  year  engine_hp  engine_cylinders transmission_type  \\\n",
       "0  BMW  1 Series M  2011      335.0               6.0            MANUAL   \n",
       "1  BMW    1 Series  2011      300.0               6.0            MANUAL   \n",
       "2  BMW    1 Series  2011      300.0               6.0            MANUAL   \n",
       "3  BMW    1 Series  2011      230.0               6.0            MANUAL   \n",
       "4  BMW    1 Series  2011      230.0               6.0            MANUAL   \n",
       "\n",
       "  vehicle_style  highway_mpg  city_mpg  above_average  \n",
       "0         Coupe           26        19              1  \n",
       "1   Convertible           28        19              1  \n",
       "2         Coupe           28        20              0  \n",
       "3         Coupe           28        18              0  \n",
       "4   Convertible           28        18              0  "
      ]
     },
     "execution_count": 228,
     "metadata": {},
     "output_type": "execute_result"
    }
   ],
   "source": [
    "df.head()"
   ]
  },
  {
   "cell_type": "code",
   "execution_count": 229,
   "metadata": {},
   "outputs": [],
   "source": [
    "from sklearn.model_selection import train_test_split"
   ]
  },
  {
   "cell_type": "code",
   "execution_count": 230,
   "metadata": {},
   "outputs": [],
   "source": [
    "df_full_train, df_test = train_test_split(df, test_size=0.2, random_state=42)\n",
    "df_train, df_val = train_test_split(df_full_train, test_size=0.25, random_state=42)"
   ]
  },
  {
   "cell_type": "code",
   "execution_count": 231,
   "metadata": {},
   "outputs": [
    {
     "data": {
      "text/plain": [
       "(7148, 2383, 2383)"
      ]
     },
     "execution_count": 231,
     "metadata": {},
     "output_type": "execute_result"
    }
   ],
   "source": [
    "len(df_train), len(df_val), len(df_test)"
   ]
  },
  {
   "cell_type": "code",
   "execution_count": 232,
   "metadata": {},
   "outputs": [],
   "source": [
    "df_train = df_train.reset_index(drop=True)\n",
    "df_val = df_val.reset_index(drop=True)\n",
    "df_test = df_test.reset_index(drop=True)"
   ]
  },
  {
   "cell_type": "code",
   "execution_count": 233,
   "metadata": {},
   "outputs": [],
   "source": [
    "y_train = df_train.above_average.values\n",
    "y_val = df_val.above_average.values\n",
    "y_test = df_test.above_average.values\n",
    "\n",
    "del df_train['above_average']\n",
    "del df_val['above_average']\n",
    "del df_test['above_average']"
   ]
  },
  {
   "cell_type": "code",
   "execution_count": 234,
   "metadata": {},
   "outputs": [
    {
     "data": {
      "text/plain": [
       "array([0, 0, 1, ..., 0, 0, 0])"
      ]
     },
     "execution_count": 234,
     "metadata": {},
     "output_type": "execute_result"
    }
   ],
   "source": [
    "y_train"
   ]
  },
  {
   "cell_type": "markdown",
   "metadata": {},
   "source": [
    "### Question 3"
   ]
  },
  {
   "cell_type": "code",
   "execution_count": 235,
   "metadata": {},
   "outputs": [],
   "source": [
    "from sklearn.metrics import mutual_info_score"
   ]
  },
  {
   "cell_type": "code",
   "execution_count": 236,
   "metadata": {},
   "outputs": [],
   "source": [
    "def mutual_info_price_score(series):\n",
    "    return mutual_info_score(series, y_train)"
   ]
  },
  {
   "cell_type": "code",
   "execution_count": 237,
   "metadata": {},
   "outputs": [
    {
     "data": {
      "text/plain": [
       "['make', 'model', 'transmission_type', 'vehicle_style']"
      ]
     },
     "execution_count": 237,
     "metadata": {},
     "output_type": "execute_result"
    }
   ],
   "source": [
    "categorical_columns = list(df.dtypes[(df.dtypes == 'object')].index)\n",
    "categorical_columns"
   ]
  },
  {
   "cell_type": "code",
   "execution_count": 238,
   "metadata": {},
   "outputs": [
    {
     "data": {
      "text/plain": [
       "model                0.46\n",
       "make                 0.24\n",
       "vehicle_style        0.08\n",
       "transmission_type    0.02\n",
       "dtype: float64"
      ]
     },
     "execution_count": 238,
     "metadata": {},
     "output_type": "execute_result"
    }
   ],
   "source": [
    "mi = df_train[categorical_columns].apply(mutual_info_price_score)\n",
    "round(mi.sort_values(ascending=False), 2)"
   ]
  },
  {
   "cell_type": "markdown",
   "metadata": {},
   "source": [
    "Answer: transmission_type"
   ]
  },
  {
   "cell_type": "markdown",
   "metadata": {},
   "source": [
    "### Question 4"
   ]
  },
  {
   "cell_type": "code",
   "execution_count": 239,
   "metadata": {},
   "outputs": [],
   "source": [
    "from sklearn.feature_extraction import DictVectorizer"
   ]
  },
  {
   "cell_type": "code",
   "execution_count": 240,
   "metadata": {},
   "outputs": [
    {
     "data": {
      "text/plain": [
       "['year', 'engine_hp', 'engine_cylinders', 'highway_mpg', 'city_mpg']"
      ]
     },
     "execution_count": 240,
     "metadata": {},
     "output_type": "execute_result"
    }
   ],
   "source": [
    "numerrical_columns"
   ]
  },
  {
   "cell_type": "code",
   "execution_count": 241,
   "metadata": {},
   "outputs": [],
   "source": [
    "dv = DictVectorizer(sparse=False)\n",
    "\n",
    "train_dict = df_train[categorical_columns + numerrical_columns].to_dict(orient='records')\n",
    "X_train = dv.fit_transform(train_dict)\n",
    "\n",
    "val_dict = df_val[categorical_columns + numerrical_columns].to_dict(orient='records')\n",
    "X_val = dv.transform(val_dict)"
   ]
  },
  {
   "cell_type": "code",
   "execution_count": 242,
   "metadata": {},
   "outputs": [
    {
     "data": {
      "text/plain": [
       "array([[2.300e+01, 4.000e+00, 2.100e+02, ..., 0.000e+00, 0.000e+00,\n",
       "        2.015e+03],\n",
       "       [1.700e+01, 6.000e+00, 3.540e+02, ..., 0.000e+00, 0.000e+00,\n",
       "        2.015e+03],\n",
       "       [2.200e+01, 4.000e+00, 1.400e+02, ..., 1.000e+00, 0.000e+00,\n",
       "        2.005e+03],\n",
       "       ...,\n",
       "       [1.200e+01, 6.000e+00, 1.900e+02, ..., 0.000e+00, 0.000e+00,\n",
       "        2.003e+03],\n",
       "       [1.400e+01, 8.000e+00, 4.300e+02, ..., 0.000e+00, 0.000e+00,\n",
       "        2.015e+03],\n",
       "       [1.800e+01, 6.000e+00, 3.210e+02, ..., 1.000e+00, 0.000e+00,\n",
       "        2.015e+03]])"
      ]
     },
     "execution_count": 242,
     "metadata": {},
     "output_type": "execute_result"
    }
   ],
   "source": [
    "X_val"
   ]
  },
  {
   "cell_type": "code",
   "execution_count": 243,
   "metadata": {},
   "outputs": [],
   "source": [
    "from sklearn.linear_model import LogisticRegression"
   ]
  },
  {
   "cell_type": "code",
   "execution_count": 244,
   "metadata": {},
   "outputs": [],
   "source": [
    "model = LogisticRegression(solver='liblinear', C=10, max_iter=1000, random_state=42)"
   ]
  },
  {
   "cell_type": "code",
   "execution_count": 245,
   "metadata": {},
   "outputs": [
    {
     "data": {
      "text/html": [
       "<style>#sk-container-id-3 {color: black;}#sk-container-id-3 pre{padding: 0;}#sk-container-id-3 div.sk-toggleable {background-color: white;}#sk-container-id-3 label.sk-toggleable__label {cursor: pointer;display: block;width: 100%;margin-bottom: 0;padding: 0.3em;box-sizing: border-box;text-align: center;}#sk-container-id-3 label.sk-toggleable__label-arrow:before {content: \"▸\";float: left;margin-right: 0.25em;color: #696969;}#sk-container-id-3 label.sk-toggleable__label-arrow:hover:before {color: black;}#sk-container-id-3 div.sk-estimator:hover label.sk-toggleable__label-arrow:before {color: black;}#sk-container-id-3 div.sk-toggleable__content {max-height: 0;max-width: 0;overflow: hidden;text-align: left;background-color: #f0f8ff;}#sk-container-id-3 div.sk-toggleable__content pre {margin: 0.2em;color: black;border-radius: 0.25em;background-color: #f0f8ff;}#sk-container-id-3 input.sk-toggleable__control:checked~div.sk-toggleable__content {max-height: 200px;max-width: 100%;overflow: auto;}#sk-container-id-3 input.sk-toggleable__control:checked~label.sk-toggleable__label-arrow:before {content: \"▾\";}#sk-container-id-3 div.sk-estimator input.sk-toggleable__control:checked~label.sk-toggleable__label {background-color: #d4ebff;}#sk-container-id-3 div.sk-label input.sk-toggleable__control:checked~label.sk-toggleable__label {background-color: #d4ebff;}#sk-container-id-3 input.sk-hidden--visually {border: 0;clip: rect(1px 1px 1px 1px);clip: rect(1px, 1px, 1px, 1px);height: 1px;margin: -1px;overflow: hidden;padding: 0;position: absolute;width: 1px;}#sk-container-id-3 div.sk-estimator {font-family: monospace;background-color: #f0f8ff;border: 1px dotted black;border-radius: 0.25em;box-sizing: border-box;margin-bottom: 0.5em;}#sk-container-id-3 div.sk-estimator:hover {background-color: #d4ebff;}#sk-container-id-3 div.sk-parallel-item::after {content: \"\";width: 100%;border-bottom: 1px solid gray;flex-grow: 1;}#sk-container-id-3 div.sk-label:hover label.sk-toggleable__label {background-color: #d4ebff;}#sk-container-id-3 div.sk-serial::before {content: \"\";position: absolute;border-left: 1px solid gray;box-sizing: border-box;top: 0;bottom: 0;left: 50%;z-index: 0;}#sk-container-id-3 div.sk-serial {display: flex;flex-direction: column;align-items: center;background-color: white;padding-right: 0.2em;padding-left: 0.2em;position: relative;}#sk-container-id-3 div.sk-item {position: relative;z-index: 1;}#sk-container-id-3 div.sk-parallel {display: flex;align-items: stretch;justify-content: center;background-color: white;position: relative;}#sk-container-id-3 div.sk-item::before, #sk-container-id-3 div.sk-parallel-item::before {content: \"\";position: absolute;border-left: 1px solid gray;box-sizing: border-box;top: 0;bottom: 0;left: 50%;z-index: -1;}#sk-container-id-3 div.sk-parallel-item {display: flex;flex-direction: column;z-index: 1;position: relative;background-color: white;}#sk-container-id-3 div.sk-parallel-item:first-child::after {align-self: flex-end;width: 50%;}#sk-container-id-3 div.sk-parallel-item:last-child::after {align-self: flex-start;width: 50%;}#sk-container-id-3 div.sk-parallel-item:only-child::after {width: 0;}#sk-container-id-3 div.sk-dashed-wrapped {border: 1px dashed gray;margin: 0 0.4em 0.5em 0.4em;box-sizing: border-box;padding-bottom: 0.4em;background-color: white;}#sk-container-id-3 div.sk-label label {font-family: monospace;font-weight: bold;display: inline-block;line-height: 1.2em;}#sk-container-id-3 div.sk-label-container {text-align: center;}#sk-container-id-3 div.sk-container {/* jupyter's `normalize.less` sets `[hidden] { display: none; }` but bootstrap.min.css set `[hidden] { display: none !important; }` so we also need the `!important` here to be able to override the default hidden behavior on the sphinx rendered scikit-learn.org. See: https://github.com/scikit-learn/scikit-learn/issues/21755 */display: inline-block !important;position: relative;}#sk-container-id-3 div.sk-text-repr-fallback {display: none;}</style><div id=\"sk-container-id-3\" class=\"sk-top-container\"><div class=\"sk-text-repr-fallback\"><pre>LogisticRegression(C=10, max_iter=1000, random_state=42, solver=&#x27;liblinear&#x27;)</pre><b>In a Jupyter environment, please rerun this cell to show the HTML representation or trust the notebook. <br />On GitHub, the HTML representation is unable to render, please try loading this page with nbviewer.org.</b></div><div class=\"sk-container\" hidden><div class=\"sk-item\"><div class=\"sk-estimator sk-toggleable\"><input class=\"sk-toggleable__control sk-hidden--visually\" id=\"sk-estimator-id-3\" type=\"checkbox\" checked><label for=\"sk-estimator-id-3\" class=\"sk-toggleable__label sk-toggleable__label-arrow\">LogisticRegression</label><div class=\"sk-toggleable__content\"><pre>LogisticRegression(C=10, max_iter=1000, random_state=42, solver=&#x27;liblinear&#x27;)</pre></div></div></div></div></div>"
      ],
      "text/plain": [
       "LogisticRegression(C=10, max_iter=1000, random_state=42, solver='liblinear')"
      ]
     },
     "execution_count": 245,
     "metadata": {},
     "output_type": "execute_result"
    }
   ],
   "source": [
    "model.fit(X_train, y_train)"
   ]
  },
  {
   "cell_type": "code",
   "execution_count": 246,
   "metadata": {},
   "outputs": [
    {
     "data": {
      "text/plain": [
       "-0.3922024649900234"
      ]
     },
     "execution_count": 246,
     "metadata": {},
     "output_type": "execute_result"
    }
   ],
   "source": [
    "model.intercept_[0]"
   ]
  },
  {
   "cell_type": "code",
   "execution_count": 247,
   "metadata": {},
   "outputs": [
    {
     "data": {
      "text/plain": [
       "array([ 7.800e-02, -1.050e-01,  3.700e-02,  0.000e+00,  1.406e+00,\n",
       "        1.874e+00,  6.250e-01,  2.961e+00,  2.566e+00,  1.850e-01,\n",
       "        0.000e+00, -4.830e-01,  2.483e+00, -1.519e+00, -1.395e+00,\n",
       "       -3.865e+00, -5.390e-01,  3.960e-01, -1.962e+00, -1.152e+00,\n",
       "        6.660e-01, -2.690e-01, -1.336e+00, -2.694e+00,  2.960e-01,\n",
       "       -1.527e+00,  1.100e-02,  1.992e+00,  1.363e+00,  1.196e+00,\n",
       "        4.093e+00,  1.104e+00,  5.000e-03, -1.680e+00,  0.000e+00,\n",
       "        9.520e-01, -2.087e+00, -1.076e+00, -1.496e+00, -3.900e-01,\n",
       "       -3.283e+00,  2.007e+00,  1.034e+00,  8.970e-01, -2.470e-01,\n",
       "        3.530e-01, -2.802e+00, -1.980e+00,  3.336e+00, -7.150e-01,\n",
       "       -8.230e-01,  1.126e+00, -1.424e+00, -4.680e-01, -5.100e-02,\n",
       "       -1.000e-02, -2.000e-03, -1.310e+00, -9.780e-01, -3.000e-03,\n",
       "       -5.000e-03, -3.000e-03, -1.930e-01,  9.100e-02,  1.821e+00,\n",
       "        4.940e-01, -4.990e-01, -6.700e-02, -1.790e-01, -1.870e-01,\n",
       "       -0.000e+00, -1.800e-02, -1.007e+00,  1.640e-01,  2.700e-02,\n",
       "        1.597e+00,  9.260e-01, -6.710e-01, -8.700e-02,  1.100e-01,\n",
       "        0.000e+00,  1.874e+00,  4.900e-01, -2.800e-02,  1.328e+00,\n",
       "        1.006e+00, -5.500e-02, -2.699e+00, -4.800e-02, -3.040e-01,\n",
       "       -8.100e-02,  2.800e-02, -2.840e-01,  2.000e-03,  0.000e+00,\n",
       "        2.800e-02,  0.000e+00, -1.110e-01,  4.910e-01,  1.960e-01,\n",
       "       -2.762e+00, -4.000e-03,  2.000e-03,  3.000e-03, -8.000e-03,\n",
       "        2.120e-01, -6.200e-02, -8.000e-03, -3.100e-02, -1.659e+00,\n",
       "       -6.500e-02, -1.156e+00, -1.800e-01,  9.710e-01,  7.940e-01,\n",
       "       -1.061e+00,  5.240e-01,  3.250e-01, -2.760e-01, -3.680e-01,\n",
       "       -1.070e-01,  8.590e-01, -4.700e-01, -1.300e-02, -1.530e-01,\n",
       "       -5.310e-01, -1.020e-01, -9.460e-01, -1.037e+00, -1.014e+00,\n",
       "        1.601e+00,  1.438e+00,  7.360e-01,  3.110e-01,  0.000e+00,\n",
       "        0.000e+00,  1.000e-03, -1.402e+00, -2.470e-01,  1.766e+00,\n",
       "        1.290e+00, -8.000e-03, -3.000e-03, -1.084e+00, -1.590e-01,\n",
       "       -2.730e-01, -7.500e-02, -9.000e-03,  6.300e-02,  5.200e-02,\n",
       "        1.000e-03, -5.400e-02, -8.000e-03, -6.400e-02, -3.980e-01,\n",
       "       -7.090e-01, -4.000e-02, -1.120e-01,  2.332e+00,  5.800e-02,\n",
       "       -5.710e-01, -0.000e+00, -2.200e-02, -1.100e-02, -9.400e-02,\n",
       "        1.657e+00, -9.560e-01,  1.514e+00, -9.100e-02,  0.000e+00,\n",
       "       -3.000e-03, -2.270e-01, -3.000e-03, -2.700e-01, -2.200e-02,\n",
       "        1.300e-02,  1.000e-03, -3.060e-01, -3.000e-03, -5.000e-03,\n",
       "       -6.000e-03, -6.940e-01, -2.600e-02, -3.800e-02, -2.120e-01,\n",
       "       -1.713e+00, -4.000e-03,  1.064e+00,  4.210e-01, -3.900e-02,\n",
       "       -1.370e-01, -1.382e+00,  6.910e-01, -7.470e-01, -2.000e-03,\n",
       "       -9.000e-03, -1.000e-03,  3.000e-03, -1.550e-01,  1.502e+00,\n",
       "       -1.110e-01, -2.700e-02, -8.000e-03, -1.160e-01, -6.000e-01,\n",
       "       -4.700e-02,  3.530e-01,  1.121e+00, -5.820e-01,  2.300e-02,\n",
       "       -5.410e-01,  1.501e+00,  2.060e-01, -5.100e-01, -1.800e-02,\n",
       "        5.730e-01,  1.351e+00,  2.200e-02, -6.300e-02,  0.000e+00,\n",
       "        0.000e+00,  0.000e+00, -6.200e-02, -3.370e-01, -5.170e-01,\n",
       "        6.430e-01, -3.600e-02, -3.610e-01,  9.740e-01, -8.000e-03,\n",
       "       -2.355e+00, -8.320e-01, -3.830e-01, -5.370e-01, -1.949e+00,\n",
       "       -6.200e-02, -6.300e-02, -6.000e-03,  0.000e+00, -1.910e-01,\n",
       "       -3.080e-01, -9.000e-03,  1.150e-01,  8.690e-01,  4.460e-01,\n",
       "       -1.000e-03, -2.900e-02, -1.700e-02, -1.494e+00, -1.791e+00,\n",
       "       -1.800e-02, -2.000e-03, -2.980e-01, -1.000e-03, -3.000e-03,\n",
       "       -2.000e-03, -1.110e-01, -1.441e+00, -1.500e-02, -1.560e-01,\n",
       "        2.444e+00,  1.000e-03,  0.000e+00,  5.000e-03,  0.000e+00,\n",
       "        0.000e+00,  0.000e+00,  0.000e+00,  0.000e+00,  0.000e+00,\n",
       "       -2.000e-03,  1.380e-01, -1.080e-01, -2.000e-03, -2.000e-03,\n",
       "        8.200e-01,  8.200e-02,  3.740e-01, -9.000e-03, -9.200e-02,\n",
       "       -5.130e-01, -1.900e-02, -2.800e-02, -7.500e-02, -1.700e-02,\n",
       "       -9.000e-03, -4.000e-03, -6.000e-03, -2.400e-02, -2.300e-02,\n",
       "       -3.500e-02,  8.000e-03,  1.000e-03,  2.900e-02,  1.375e+00,\n",
       "       -1.160e-01, -2.800e-02,  0.000e+00, -3.000e-03,  1.490e+00,\n",
       "       -6.100e-02,  3.000e-03, -5.200e-02,  4.550e-01, -3.140e-01,\n",
       "       -6.460e-01,  3.422e+00, -1.000e-03, -1.000e-02, -1.100e-02,\n",
       "        3.619e+00, -6.000e-02, -1.380e-01, -8.840e-01, -9.000e-03,\n",
       "       -7.000e-03, -2.190e-01,  7.600e-01, -2.370e+00, -2.847e+00,\n",
       "       -3.700e-02, -4.540e-01, -9.790e-01, -1.210e-01, -5.600e-02,\n",
       "       -5.400e-02, -6.000e-03, -6.000e-03, -3.000e-03, -3.190e-01,\n",
       "       -1.200e-02, -7.000e-02,  1.327e+00,  1.797e+00, -1.560e-01,\n",
       "       -1.990e-01, -6.700e-02,  1.026e+00, -1.715e+00, -1.436e+00,\n",
       "       -3.370e-01,  5.900e-01, -2.630e-01, -2.680e-01,  3.150e-01,\n",
       "        4.800e-02,  2.700e-02,  4.000e-02,  2.100e-01, -8.200e-02,\n",
       "       -1.440e-01, -2.000e-03,  1.910e-01, -2.000e-02, -2.900e-02,\n",
       "        1.138e+00, -0.000e+00,  1.437e+00,  2.277e+00,  4.050e-01,\n",
       "       -4.900e-02, -5.960e-01, -2.000e-03, -5.770e-01, -8.500e-02,\n",
       "        1.478e+00, -1.500e-02, -8.500e-02, -2.100e-02,  0.000e+00,\n",
       "        6.500e-02,  0.000e+00, -6.460e-01, -1.460e-01,  1.113e+00,\n",
       "        1.560e-01,  2.660e-01,  3.000e-02, -0.000e+00, -8.000e-03,\n",
       "       -5.660e-01, -1.100e-02, -6.800e-02, -9.700e-01,  1.390e-01,\n",
       "        2.000e-03, -3.800e-02, -3.400e-02, -1.800e-02, -3.760e-01,\n",
       "       -6.400e-02, -1.000e-03, -4.230e-01, -2.600e-02, -7.100e-02,\n",
       "       -1.108e+00, -1.890e-01, -1.550e-01,  6.350e-01,  2.970e-01,\n",
       "       -1.071e+00,  2.800e-02, -2.600e-02, -0.000e+00, -2.059e+00,\n",
       "       -1.728e+00,  3.240e-01, -8.190e-01, -8.040e-01, -5.000e-03,\n",
       "       -1.560e-01, -9.420e-01,  6.660e-01,  9.890e-01, -7.350e-01,\n",
       "       -4.940e-01,  1.087e+00,  2.600e-02, -2.280e-01, -2.577e+00,\n",
       "        3.000e-03,  1.736e+00,  8.280e-01,  8.760e-01, -1.129e+00,\n",
       "        3.140e-01,  8.500e-02,  2.830e-01,  1.500e-02,  7.000e-03,\n",
       "       -2.410e-01, -6.590e-01,  3.650e-01,  1.119e+00, -1.400e-02,\n",
       "        7.000e-03,  6.030e-01, -1.153e+00,  2.210e-01,  1.000e-03,\n",
       "        1.000e-03, -6.900e-02, -1.200e-02, -3.100e-01, -3.750e-01,\n",
       "       -1.600e-01,  1.290e-01,  5.400e-02,  1.400e-02, -1.800e-02,\n",
       "       -2.740e-01, -3.490e-01, -6.100e-02, -3.100e-02,  5.040e-01,\n",
       "       -7.720e-01, -1.270e-01, -5.500e-02, -5.850e-01,  5.690e-01,\n",
       "        8.770e-01, -0.000e+00,  0.000e+00, -3.150e-01, -3.230e-01,\n",
       "       -8.460e-01, -2.000e-02, -6.700e-01, -4.950e-01,  5.580e-01,\n",
       "       -2.610e-01, -6.750e-01,  5.900e-02,  1.100e-02,  2.680e-01,\n",
       "       -6.550e-01, -2.000e-03, -4.500e-02, -2.420e-01, -8.000e-03,\n",
       "       -1.240e-01, -2.800e-02, -1.150e-01, -1.550e-01,  5.390e-01,\n",
       "       -4.900e-01, -5.490e-01, -1.850e-01, -1.530e-01, -2.410e-01,\n",
       "       -5.440e-01, -1.040e-01, -0.000e+00,  8.180e-01, -1.280e-01,\n",
       "        0.000e+00, -9.200e-02, -1.940e-01,  3.060e-01,  2.030e-01,\n",
       "       -4.340e-01, -1.028e+00,  3.840e-01,  3.770e-01,  5.000e-03,\n",
       "       -3.000e-02, -6.000e-03, -1.460e-01,  7.050e-01,  6.200e-02,\n",
       "       -1.177e+00, -3.000e-02, -3.230e-01, -9.000e-03,  1.050e-01,\n",
       "       -1.500e-02, -6.000e-03, -1.000e-03, -7.000e-02, -7.900e-02,\n",
       "       -1.520e-01, -5.480e-01,  8.000e-03, -1.000e-03,  8.590e-01,\n",
       "       -1.700e-02, -4.000e-03,  1.139e+00,  1.793e+00,  1.060e-01,\n",
       "        1.200e-02, -9.100e-02,  1.881e+00,  2.600e-01,  2.500e-02,\n",
       "        1.145e+00,  0.000e+00,  4.100e-02,  0.000e+00,  0.000e+00,\n",
       "        1.780e+00, -1.930e-01, -8.170e-01,  5.420e-01, -1.034e+00,\n",
       "        5.700e-01, -2.270e-01,  0.000e+00, -7.400e-02, -6.000e-03,\n",
       "       -3.900e-02, -1.000e-03, -2.120e-01, -3.000e-03,  4.140e-01,\n",
       "       -1.289e+00, -3.280e-01, -3.500e-02, -1.100e-02, -4.600e-02,\n",
       "       -3.800e-02, -1.199e+00, -4.510e-01, -1.000e+00, -7.000e-03,\n",
       "       -1.167e+00,  1.000e-03, -1.300e-02, -2.600e-02, -4.000e-03,\n",
       "       -2.190e-01, -1.000e-03, -0.000e+00, -7.600e-02, -5.000e-03,\n",
       "       -1.000e-03,  3.336e+00, -1.000e-03, -4.300e-02, -6.000e-03,\n",
       "       -1.820e-01, -4.200e-02, -1.690e-01,  3.000e-03,  1.167e+00,\n",
       "        1.584e+00,  0.000e+00, -1.830e+00, -7.740e-01,  2.052e+00,\n",
       "       -5.000e-03, -1.000e-03, -2.185e+00,  2.460e-01, -7.000e-03,\n",
       "        1.820e-01, -2.600e-02, -1.380e-01, -2.700e-02, -5.000e-02,\n",
       "       -1.740e-01,  1.985e+00, -0.000e+00, -5.360e-01, -7.800e-02,\n",
       "       -3.330e-01, -1.810e-01, -1.760e-01, -1.700e-02, -3.490e-01,\n",
       "        5.590e-01,  8.250e-01, -2.000e-03, -5.520e-01, -1.770e-01,\n",
       "        1.800e-01,  1.662e+00,  4.200e-02,  3.000e-02,  6.000e-03,\n",
       "       -2.000e-03,  5.500e-02, -0.000e+00, -1.800e-02, -3.700e-02,\n",
       "       -6.800e-02, -6.000e-03, -2.000e-02, -9.800e-02, -3.000e-03,\n",
       "       -1.000e-03, -2.000e-03, -1.000e-03,  5.440e-01, -1.718e+00,\n",
       "       -7.150e-01,  2.380e-01,  6.480e-01,  7.380e-01,  4.990e-01,\n",
       "        2.856e+00,  7.040e-01,  1.386e+00,  6.600e-02, -4.510e-01,\n",
       "       -2.528e+00,  5.200e-01,  2.182e+00,  5.610e-01,  9.000e-02,\n",
       "        1.660e-01,  6.080e-01,  2.450e+00, -1.800e-02,  1.800e-02,\n",
       "       -5.000e-03, -3.000e-03, -4.090e-01,  1.279e+00, -2.810e-01,\n",
       "       -5.330e-01,  1.202e+00,  7.090e-01, -2.334e+00,  1.362e+00,\n",
       "        8.930e-01,  2.100e-02,  4.000e-03,  0.000e+00, -3.900e-02,\n",
       "       -8.300e-01, -1.006e+00,  8.660e-01,  4.240e-01,  2.030e-01,\n",
       "       -4.100e-02, -6.400e-02, -1.500e-02, -9.200e-02, -1.217e+00,\n",
       "       -1.200e-02, -0.000e+00, -6.000e-03, -1.335e+00, -5.000e-03,\n",
       "       -0.000e+00, -2.000e-02,  2.840e-01,  2.175e+00,  2.060e-01,\n",
       "       -1.400e-02,  1.900e-02,  1.000e-03, -3.000e-02, -8.310e-01,\n",
       "       -1.700e-02, -4.900e-02, -4.000e-03,  0.000e+00,  2.010e-01,\n",
       "       -3.000e-02, -6.300e-02, -4.880e-01, -2.430e-01, -4.400e-02,\n",
       "       -2.700e-02, -2.910e-01, -1.100e-02, -2.000e-02, -1.000e-03,\n",
       "       -1.300e-02,  1.700e-02, -3.050e-01,  1.670e-01,  3.020e-01,\n",
       "       -4.510e-01,  2.110e-01,  5.000e-03, -4.630e-01,  6.420e-01,\n",
       "        4.000e-03, -3.070e-01,  0.000e+00,  6.440e-01,  1.320e-01,\n",
       "       -3.170e-01, -8.660e-01,  1.420e-01,  4.500e-02,  1.000e-02,\n",
       "        1.034e+00,  0.000e+00,  0.000e+00,  0.000e+00,  0.000e+00,\n",
       "       -8.300e-02,  3.800e-02,  3.000e-03, -1.281e+00,  4.860e-01,\n",
       "        2.000e-03, -3.000e-02, -2.900e-02, -1.400e-02, -1.900e-02,\n",
       "       -0.000e+00, -8.190e-01, -3.250e-01, -7.940e-01, -3.130e-01,\n",
       "       -1.000e-03, -3.840e-01, -6.700e-02, -5.400e-02, -4.000e-03,\n",
       "        1.148e+00,  7.190e-01, -2.000e-03,  4.300e-02,  0.000e+00,\n",
       "       -8.000e-03,  6.570e-01,  1.470e+00, -9.800e-01,  1.110e+00,\n",
       "       -7.040e-01, -8.900e-02, -8.000e-03, -1.000e-03, -9.000e-02,\n",
       "        8.160e-01,  1.595e+00, -7.250e-01,  1.934e+00, -2.200e-02,\n",
       "       -1.720e-01, -2.760e-01, -8.500e-02, -3.100e-02, -4.000e-03,\n",
       "       -5.530e-01, -1.900e-02, -4.800e-02, -3.000e-03, -1.892e+00,\n",
       "       -1.900e-02, -0.000e+00, -3.780e-01, -1.000e-02,  7.200e-02,\n",
       "       -4.000e-03, -5.900e-02, -1.400e-02,  1.346e+00, -3.000e-03,\n",
       "       -3.000e-03, -1.000e-03, -7.000e-03, -1.000e-03, -1.800e-02,\n",
       "       -6.000e-03,  6.000e-03, -4.710e-01, -1.171e+00, -4.640e-01,\n",
       "        3.840e-01,  1.650e-01, -8.410e-01,  1.999e+00,  1.235e+00,\n",
       "       -9.600e-02, -8.580e-01, -3.430e-01, -1.000e-03, -1.000e-03,\n",
       "       -4.230e-01, -3.020e-01, -1.097e+00, -7.000e-03, -5.250e-01,\n",
       "       -1.375e+00, -1.000e-02, -1.790e-01,  3.449e+00,  1.400e-02,\n",
       "        2.719e+00, -4.900e-02, -2.400e-02, -3.525e+00, -9.710e-01,\n",
       "       -1.700e-02, -9.400e-02,  1.735e+00,  3.710e-01, -6.600e-02,\n",
       "       -2.150e-01, -4.470e-01, -6.500e-02, -6.000e-03, -9.300e-02,\n",
       "       -9.250e-01, -2.510e-01, -3.320e-01,  3.300e-02,  1.300e-02,\n",
       "        1.000e-03, -1.310e-01, -6.410e-01, -5.490e-01,  1.800e+00,\n",
       "       -2.070e-01,  5.170e-01, -1.000e-03, -1.000e-03, -6.000e-03,\n",
       "        1.000e-03, -0.000e+00, -3.900e-02, -5.000e-02, -1.076e+00,\n",
       "       -3.810e-01, -3.630e-01, -1.100e-02, -1.500e-02, -5.000e-03,\n",
       "        0.000e+00, -3.000e-03, -3.000e-02,  1.700e-02,  1.000e-03,\n",
       "       -1.500e-02, -4.900e-02, -5.880e-01, -8.300e-02, -1.200e-02,\n",
       "        0.000e+00, -1.000e-03, -2.216e+00, -1.670e-01,  6.710e-01,\n",
       "        4.460e-01,  0.000e+00,  1.920e-01,  0.000e+00, -6.400e-02,\n",
       "        2.380e-01,  7.190e-01,  1.487e+00, -4.000e-03, -1.400e-02,\n",
       "       -1.440e-01, -1.225e+00,  1.530e-01,  2.000e-03, -1.000e-03,\n",
       "        8.600e-02,  1.040e+00, -4.400e-02, -8.160e-01, -9.000e-03,\n",
       "       -1.000e-03,  9.130e-01, -7.800e-02,  1.068e+00,  1.150e+00,\n",
       "       -1.015e+00,  3.310e-01,  4.010e-01,  1.800e-02,  2.024e+00,\n",
       "        1.548e+00, -1.670e-01, -1.352e+00, -2.330e-01,  5.000e-03,\n",
       "       -7.000e-03, -3.000e-03, -4.900e-02, -4.000e-03, -3.300e-02,\n",
       "       -6.000e-03, -1.200e-02,  7.400e-02,  5.310e-01, -8.920e-01,\n",
       "       -9.300e-02, -1.806e+00,  3.130e-01, -1.174e+00,  1.279e+00,\n",
       "       -1.900e-01, -5.070e-01,  2.228e+00,  1.578e+00, -1.590e-01,\n",
       "        4.420e-01, -1.121e+00,  8.890e-01,  1.960e-01, -3.144e+00,\n",
       "        3.470e-01,  4.380e-01, -6.000e-03])"
      ]
     },
     "execution_count": 247,
     "metadata": {},
     "output_type": "execute_result"
    }
   ],
   "source": [
    "model.coef_[0].round(3)"
   ]
  },
  {
   "cell_type": "code",
   "execution_count": 248,
   "metadata": {},
   "outputs": [],
   "source": [
    "y_pred = model.predict(X_val)"
   ]
  },
  {
   "cell_type": "code",
   "execution_count": 249,
   "metadata": {},
   "outputs": [
    {
     "data": {
      "text/plain": [
       "array([0, 1, 0, ..., 0, 1, 1])"
      ]
     },
     "execution_count": 249,
     "metadata": {},
     "output_type": "execute_result"
    }
   ],
   "source": [
    "y_pred"
   ]
  },
  {
   "cell_type": "code",
   "execution_count": 250,
   "metadata": {},
   "outputs": [
    {
     "data": {
      "text/plain": [
       "array([0, 1, 0, ..., 0, 1, 1])"
      ]
     },
     "execution_count": 250,
     "metadata": {},
     "output_type": "execute_result"
    }
   ],
   "source": [
    "y_val"
   ]
  },
  {
   "cell_type": "code",
   "execution_count": 252,
   "metadata": {},
   "outputs": [
    {
     "data": {
      "text/plain": [
       "0.95"
      ]
     },
     "execution_count": 252,
     "metadata": {},
     "output_type": "execute_result"
    }
   ],
   "source": [
    "from sklearn.metrics import accuracy_score\n",
    "round(accuracy_score(y_val, y_pred), 2)"
   ]
  },
  {
   "cell_type": "markdown",
   "metadata": {},
   "source": [
    "Answer: 0.95"
   ]
  },
  {
   "cell_type": "markdown",
   "metadata": {},
   "source": [
    "### Question 5"
   ]
  },
  {
   "cell_type": "code",
   "execution_count": 253,
   "metadata": {},
   "outputs": [
    {
     "data": {
      "text/plain": [
       "['make', 'model', 'transmission_type', 'vehicle_style']"
      ]
     },
     "execution_count": 253,
     "metadata": {},
     "output_type": "execute_result"
    }
   ],
   "source": [
    "categorical_columns"
   ]
  },
  {
   "cell_type": "code",
   "execution_count": 254,
   "metadata": {},
   "outputs": [
    {
     "data": {
      "text/plain": [
       "['year', 'engine_hp', 'engine_cylinders', 'highway_mpg', 'city_mpg']"
      ]
     },
     "execution_count": 254,
     "metadata": {},
     "output_type": "execute_result"
    }
   ],
   "source": [
    "numerrical_columns"
   ]
  },
  {
   "cell_type": "code",
   "execution_count": 270,
   "metadata": {},
   "outputs": [],
   "source": [
    "columns_for_q5 = ['year', 'engine_hp', 'transmission_type', 'city_mpg']"
   ]
  },
  {
   "cell_type": "code",
   "execution_count": 271,
   "metadata": {},
   "outputs": [],
   "source": [
    "def train_and_get_accuracy(columns_to_use):\n",
    "    dv = DictVectorizer(sparse=False)\n",
    "\n",
    "    train_dict_q5 = df_train[columns_to_use].to_dict(orient='records')\n",
    "    X_train_q5 = dv.fit_transform(train_dict_q5)\n",
    "\n",
    "    val_dict_q5 = df_val[columns_to_use].to_dict(orient='records')\n",
    "    X_val_q5 = dv.transform(val_dict_q5)\n",
    "\n",
    "    model = LogisticRegression(solver='liblinear', C=10, max_iter=1000, random_state=42)\n",
    "    model.fit(X_train_q5, y_train)\n",
    "\n",
    "    y_pred_q5 = model.predict(X_val_q5)\n",
    "\n",
    "    acc = accuracy_score(y_val, y_pred_q5)\n",
    "\n",
    "    return acc\n",
    "\n",
    "    "
   ]
  },
  {
   "cell_type": "code",
   "execution_count": 272,
   "metadata": {},
   "outputs": [
    {
     "data": {
      "text/plain": [
       "0.8850188837599664"
      ]
     },
     "execution_count": 272,
     "metadata": {},
     "output_type": "execute_result"
    }
   ],
   "source": [
    "acc_all_features = train_and_get_accuracy(columns_for_q5)\n",
    "acc_all_features"
   ]
  },
  {
   "cell_type": "code",
   "execution_count": 273,
   "metadata": {},
   "outputs": [
    {
     "data": {
      "text/plain": [
       "0.8854385228703315"
      ]
     },
     "execution_count": 273,
     "metadata": {},
     "output_type": "execute_result"
    }
   ],
   "source": [
    "columns_for_q5 = ['engine_hp', 'transmission_type', 'city_mpg']\n",
    "acc_wo_year = train_and_get_accuracy(columns_for_q5)\n",
    "acc_wo_year"
   ]
  },
  {
   "cell_type": "code",
   "execution_count": 274,
   "metadata": {},
   "outputs": [
    {
     "data": {
      "text/plain": [
       "0.7444397817876626"
      ]
     },
     "execution_count": 274,
     "metadata": {},
     "output_type": "execute_result"
    }
   ],
   "source": [
    "columns_for_q5 = ['year', 'transmission_type', 'city_mpg']\n",
    "acc_wo_engine_hp = train_and_get_accuracy(columns_for_q5)\n",
    "acc_wo_engine_hp"
   ]
  },
  {
   "cell_type": "code",
   "execution_count": 275,
   "metadata": {},
   "outputs": [
    {
     "data": {
      "text/plain": [
       "0.8820814099874108"
      ]
     },
     "execution_count": 275,
     "metadata": {},
     "output_type": "execute_result"
    }
   ],
   "source": [
    "columns_for_q5 = ['year', 'engine_hp', 'city_mpg']\n",
    "acc_wo_transmission_type = train_and_get_accuracy(columns_for_q5)\n",
    "acc_wo_transmission_type"
   ]
  },
  {
   "cell_type": "code",
   "execution_count": 276,
   "metadata": {},
   "outputs": [
    {
     "data": {
      "text/plain": [
       "0.8766261015526647"
      ]
     },
     "execution_count": 276,
     "metadata": {},
     "output_type": "execute_result"
    }
   ],
   "source": [
    "columns_for_q5 = ['year', 'engine_hp', 'transmission_type']\n",
    "acc_wo_city_mpg = train_and_get_accuracy(columns_for_q5)\n",
    "acc_wo_city_mpg"
   ]
  },
  {
   "cell_type": "code",
   "execution_count": 278,
   "metadata": {},
   "outputs": [
    {
     "data": {
      "text/plain": [
       "-0.00041963911036513313"
      ]
     },
     "execution_count": 278,
     "metadata": {},
     "output_type": "execute_result"
    }
   ],
   "source": [
    "acc_all_features - acc_wo_year"
   ]
  },
  {
   "cell_type": "code",
   "execution_count": 279,
   "metadata": {},
   "outputs": [
    {
     "data": {
      "text/plain": [
       "0.14057910197230383"
      ]
     },
     "execution_count": 279,
     "metadata": {},
     "output_type": "execute_result"
    }
   ],
   "source": [
    "acc_all_features - acc_wo_engine_hp"
   ]
  },
  {
   "cell_type": "code",
   "execution_count": 280,
   "metadata": {},
   "outputs": [
    {
     "data": {
      "text/plain": [
       "0.002937473772555599"
      ]
     },
     "execution_count": 280,
     "metadata": {},
     "output_type": "execute_result"
    }
   ],
   "source": [
    "acc_all_features - acc_wo_transmission_type"
   ]
  },
  {
   "cell_type": "code",
   "execution_count": 281,
   "metadata": {},
   "outputs": [
    {
     "data": {
      "text/plain": [
       "0.008392782207301663"
      ]
     },
     "execution_count": 281,
     "metadata": {},
     "output_type": "execute_result"
    }
   ],
   "source": [
    "acc_all_features - acc_wo_city_mpg"
   ]
  },
  {
   "cell_type": "markdown",
   "metadata": {},
   "source": [
    "Answer: year"
   ]
  },
  {
   "cell_type": "markdown",
   "metadata": {},
   "source": [
    "### Question 6"
   ]
  },
  {
   "cell_type": "code",
   "execution_count": 283,
   "metadata": {},
   "outputs": [],
   "source": [
    "from numpy import log1p\n",
    "\n",
    "\n",
    "df['price'] = log1p(df_raw['price'])"
   ]
  },
  {
   "cell_type": "code",
   "execution_count": 284,
   "metadata": {},
   "outputs": [
    {
     "data": {
      "text/html": [
       "<div>\n",
       "<style scoped>\n",
       "    .dataframe tbody tr th:only-of-type {\n",
       "        vertical-align: middle;\n",
       "    }\n",
       "\n",
       "    .dataframe tbody tr th {\n",
       "        vertical-align: top;\n",
       "    }\n",
       "\n",
       "    .dataframe thead th {\n",
       "        text-align: right;\n",
       "    }\n",
       "</style>\n",
       "<table border=\"1\" class=\"dataframe\">\n",
       "  <thead>\n",
       "    <tr style=\"text-align: right;\">\n",
       "      <th></th>\n",
       "      <th>make</th>\n",
       "      <th>model</th>\n",
       "      <th>year</th>\n",
       "      <th>engine_hp</th>\n",
       "      <th>engine_cylinders</th>\n",
       "      <th>transmission_type</th>\n",
       "      <th>vehicle_style</th>\n",
       "      <th>highway_mpg</th>\n",
       "      <th>city_mpg</th>\n",
       "      <th>above_average</th>\n",
       "      <th>price</th>\n",
       "    </tr>\n",
       "  </thead>\n",
       "  <tbody>\n",
       "    <tr>\n",
       "      <th>0</th>\n",
       "      <td>BMW</td>\n",
       "      <td>1 Series M</td>\n",
       "      <td>2011</td>\n",
       "      <td>335.0</td>\n",
       "      <td>6.0</td>\n",
       "      <td>MANUAL</td>\n",
       "      <td>Coupe</td>\n",
       "      <td>26</td>\n",
       "      <td>19</td>\n",
       "      <td>1</td>\n",
       "      <td>10.739349</td>\n",
       "    </tr>\n",
       "    <tr>\n",
       "      <th>1</th>\n",
       "      <td>BMW</td>\n",
       "      <td>1 Series</td>\n",
       "      <td>2011</td>\n",
       "      <td>300.0</td>\n",
       "      <td>6.0</td>\n",
       "      <td>MANUAL</td>\n",
       "      <td>Convertible</td>\n",
       "      <td>28</td>\n",
       "      <td>19</td>\n",
       "      <td>1</td>\n",
       "      <td>10.612779</td>\n",
       "    </tr>\n",
       "    <tr>\n",
       "      <th>2</th>\n",
       "      <td>BMW</td>\n",
       "      <td>1 Series</td>\n",
       "      <td>2011</td>\n",
       "      <td>300.0</td>\n",
       "      <td>6.0</td>\n",
       "      <td>MANUAL</td>\n",
       "      <td>Coupe</td>\n",
       "      <td>28</td>\n",
       "      <td>20</td>\n",
       "      <td>0</td>\n",
       "      <td>10.500977</td>\n",
       "    </tr>\n",
       "    <tr>\n",
       "      <th>3</th>\n",
       "      <td>BMW</td>\n",
       "      <td>1 Series</td>\n",
       "      <td>2011</td>\n",
       "      <td>230.0</td>\n",
       "      <td>6.0</td>\n",
       "      <td>MANUAL</td>\n",
       "      <td>Coupe</td>\n",
       "      <td>28</td>\n",
       "      <td>18</td>\n",
       "      <td>0</td>\n",
       "      <td>10.290483</td>\n",
       "    </tr>\n",
       "    <tr>\n",
       "      <th>4</th>\n",
       "      <td>BMW</td>\n",
       "      <td>1 Series</td>\n",
       "      <td>2011</td>\n",
       "      <td>230.0</td>\n",
       "      <td>6.0</td>\n",
       "      <td>MANUAL</td>\n",
       "      <td>Convertible</td>\n",
       "      <td>28</td>\n",
       "      <td>18</td>\n",
       "      <td>0</td>\n",
       "      <td>10.448744</td>\n",
       "    </tr>\n",
       "  </tbody>\n",
       "</table>\n",
       "</div>"
      ],
      "text/plain": [
       "  make       model  year  engine_hp  engine_cylinders transmission_type  \\\n",
       "0  BMW  1 Series M  2011      335.0               6.0            MANUAL   \n",
       "1  BMW    1 Series  2011      300.0               6.0            MANUAL   \n",
       "2  BMW    1 Series  2011      300.0               6.0            MANUAL   \n",
       "3  BMW    1 Series  2011      230.0               6.0            MANUAL   \n",
       "4  BMW    1 Series  2011      230.0               6.0            MANUAL   \n",
       "\n",
       "  vehicle_style  highway_mpg  city_mpg  above_average      price  \n",
       "0         Coupe           26        19              1  10.739349  \n",
       "1   Convertible           28        19              1  10.612779  \n",
       "2         Coupe           28        20              0  10.500977  \n",
       "3         Coupe           28        18              0  10.290483  \n",
       "4   Convertible           28        18              0  10.448744  "
      ]
     },
     "execution_count": 284,
     "metadata": {},
     "output_type": "execute_result"
    }
   ],
   "source": [
    "df.head()"
   ]
  },
  {
   "cell_type": "code",
   "execution_count": 285,
   "metadata": {},
   "outputs": [],
   "source": [
    "df_full_train, df_test = train_test_split(df, test_size=0.2, random_state=42)\n",
    "df_train, df_val = train_test_split(df_full_train, test_size=0.25, random_state=42)"
   ]
  },
  {
   "cell_type": "code",
   "execution_count": 286,
   "metadata": {},
   "outputs": [],
   "source": [
    "df_train = df_train.reset_index(drop=True)\n",
    "df_val = df_val.reset_index(drop=True)\n",
    "df_test = df_test.reset_index(drop=True)"
   ]
  },
  {
   "cell_type": "code",
   "execution_count": 287,
   "metadata": {},
   "outputs": [],
   "source": [
    "y_train = df_train.price.values\n",
    "y_val = df_val.price.values\n",
    "y_test = df_test.price.values\n",
    "\n",
    "del df_train['price']\n",
    "del df_val['price']\n",
    "del df_test['price']"
   ]
  },
  {
   "cell_type": "code",
   "execution_count": 288,
   "metadata": {},
   "outputs": [],
   "source": [
    "dv = DictVectorizer(sparse=False)\n",
    "\n",
    "train_dict = df_train[categorical_columns + numerrical_columns].to_dict(orient='records')\n",
    "X_train = dv.fit_transform(train_dict)\n",
    "\n",
    "val_dict = df_val[categorical_columns + numerrical_columns].to_dict(orient='records')\n",
    "X_val = dv.transform(val_dict)"
   ]
  },
  {
   "cell_type": "code",
   "execution_count": 295,
   "metadata": {},
   "outputs": [],
   "source": [
    "from sklearn.linear_model import Ridge"
   ]
  },
  {
   "cell_type": "code",
   "execution_count": 296,
   "metadata": {},
   "outputs": [],
   "source": [
    "model = Ridge(solver='sag', alpha=0, random_state=42)"
   ]
  },
  {
   "cell_type": "code",
   "execution_count": 297,
   "metadata": {},
   "outputs": [
    {
     "name": "stderr",
     "output_type": "stream",
     "text": [
      "c:\\Users\\sasha\\AppData\\Local\\Programs\\Python\\Python311\\Lib\\site-packages\\sklearn\\linear_model\\_sag.py:350: ConvergenceWarning: The max_iter was reached which means the coef_ did not converge\n",
      "  warnings.warn(\n"
     ]
    },
    {
     "data": {
      "text/html": [
       "<style>#sk-container-id-4 {color: black;}#sk-container-id-4 pre{padding: 0;}#sk-container-id-4 div.sk-toggleable {background-color: white;}#sk-container-id-4 label.sk-toggleable__label {cursor: pointer;display: block;width: 100%;margin-bottom: 0;padding: 0.3em;box-sizing: border-box;text-align: center;}#sk-container-id-4 label.sk-toggleable__label-arrow:before {content: \"▸\";float: left;margin-right: 0.25em;color: #696969;}#sk-container-id-4 label.sk-toggleable__label-arrow:hover:before {color: black;}#sk-container-id-4 div.sk-estimator:hover label.sk-toggleable__label-arrow:before {color: black;}#sk-container-id-4 div.sk-toggleable__content {max-height: 0;max-width: 0;overflow: hidden;text-align: left;background-color: #f0f8ff;}#sk-container-id-4 div.sk-toggleable__content pre {margin: 0.2em;color: black;border-radius: 0.25em;background-color: #f0f8ff;}#sk-container-id-4 input.sk-toggleable__control:checked~div.sk-toggleable__content {max-height: 200px;max-width: 100%;overflow: auto;}#sk-container-id-4 input.sk-toggleable__control:checked~label.sk-toggleable__label-arrow:before {content: \"▾\";}#sk-container-id-4 div.sk-estimator input.sk-toggleable__control:checked~label.sk-toggleable__label {background-color: #d4ebff;}#sk-container-id-4 div.sk-label input.sk-toggleable__control:checked~label.sk-toggleable__label {background-color: #d4ebff;}#sk-container-id-4 input.sk-hidden--visually {border: 0;clip: rect(1px 1px 1px 1px);clip: rect(1px, 1px, 1px, 1px);height: 1px;margin: -1px;overflow: hidden;padding: 0;position: absolute;width: 1px;}#sk-container-id-4 div.sk-estimator {font-family: monospace;background-color: #f0f8ff;border: 1px dotted black;border-radius: 0.25em;box-sizing: border-box;margin-bottom: 0.5em;}#sk-container-id-4 div.sk-estimator:hover {background-color: #d4ebff;}#sk-container-id-4 div.sk-parallel-item::after {content: \"\";width: 100%;border-bottom: 1px solid gray;flex-grow: 1;}#sk-container-id-4 div.sk-label:hover label.sk-toggleable__label {background-color: #d4ebff;}#sk-container-id-4 div.sk-serial::before {content: \"\";position: absolute;border-left: 1px solid gray;box-sizing: border-box;top: 0;bottom: 0;left: 50%;z-index: 0;}#sk-container-id-4 div.sk-serial {display: flex;flex-direction: column;align-items: center;background-color: white;padding-right: 0.2em;padding-left: 0.2em;position: relative;}#sk-container-id-4 div.sk-item {position: relative;z-index: 1;}#sk-container-id-4 div.sk-parallel {display: flex;align-items: stretch;justify-content: center;background-color: white;position: relative;}#sk-container-id-4 div.sk-item::before, #sk-container-id-4 div.sk-parallel-item::before {content: \"\";position: absolute;border-left: 1px solid gray;box-sizing: border-box;top: 0;bottom: 0;left: 50%;z-index: -1;}#sk-container-id-4 div.sk-parallel-item {display: flex;flex-direction: column;z-index: 1;position: relative;background-color: white;}#sk-container-id-4 div.sk-parallel-item:first-child::after {align-self: flex-end;width: 50%;}#sk-container-id-4 div.sk-parallel-item:last-child::after {align-self: flex-start;width: 50%;}#sk-container-id-4 div.sk-parallel-item:only-child::after {width: 0;}#sk-container-id-4 div.sk-dashed-wrapped {border: 1px dashed gray;margin: 0 0.4em 0.5em 0.4em;box-sizing: border-box;padding-bottom: 0.4em;background-color: white;}#sk-container-id-4 div.sk-label label {font-family: monospace;font-weight: bold;display: inline-block;line-height: 1.2em;}#sk-container-id-4 div.sk-label-container {text-align: center;}#sk-container-id-4 div.sk-container {/* jupyter's `normalize.less` sets `[hidden] { display: none; }` but bootstrap.min.css set `[hidden] { display: none !important; }` so we also need the `!important` here to be able to override the default hidden behavior on the sphinx rendered scikit-learn.org. See: https://github.com/scikit-learn/scikit-learn/issues/21755 */display: inline-block !important;position: relative;}#sk-container-id-4 div.sk-text-repr-fallback {display: none;}</style><div id=\"sk-container-id-4\" class=\"sk-top-container\"><div class=\"sk-text-repr-fallback\"><pre>Ridge(alpha=0, random_state=42, solver=&#x27;sag&#x27;)</pre><b>In a Jupyter environment, please rerun this cell to show the HTML representation or trust the notebook. <br />On GitHub, the HTML representation is unable to render, please try loading this page with nbviewer.org.</b></div><div class=\"sk-container\" hidden><div class=\"sk-item\"><div class=\"sk-estimator sk-toggleable\"><input class=\"sk-toggleable__control sk-hidden--visually\" id=\"sk-estimator-id-4\" type=\"checkbox\" checked><label for=\"sk-estimator-id-4\" class=\"sk-toggleable__label sk-toggleable__label-arrow\">Ridge</label><div class=\"sk-toggleable__content\"><pre>Ridge(alpha=0, random_state=42, solver=&#x27;sag&#x27;)</pre></div></div></div></div></div>"
      ],
      "text/plain": [
       "Ridge(alpha=0, random_state=42, solver='sag')"
      ]
     },
     "execution_count": 297,
     "metadata": {},
     "output_type": "execute_result"
    }
   ],
   "source": [
    "model.fit(X_train, y_train)"
   ]
  },
  {
   "cell_type": "code",
   "execution_count": 298,
   "metadata": {},
   "outputs": [],
   "source": [
    "y_pred = model.predict(X_val)"
   ]
  },
  {
   "cell_type": "code",
   "execution_count": 299,
   "metadata": {},
   "outputs": [
    {
     "data": {
      "text/plain": [
       "array([10.23163826, 11.00731088,  9.22103195, ...,  9.03680852,\n",
       "       11.54600367, 10.8485679 ])"
      ]
     },
     "execution_count": 299,
     "metadata": {},
     "output_type": "execute_result"
    }
   ],
   "source": [
    "y_pred"
   ]
  },
  {
   "cell_type": "code",
   "execution_count": 300,
   "metadata": {},
   "outputs": [],
   "source": [
    "from sklearn.metrics import mean_squared_error"
   ]
  },
  {
   "cell_type": "code",
   "execution_count": 301,
   "metadata": {},
   "outputs": [
    {
     "data": {
      "text/plain": [
       "0.23696870340512774"
      ]
     },
     "execution_count": 301,
     "metadata": {},
     "output_type": "execute_result"
    }
   ],
   "source": [
    "mean_squared_error(y_val, y_pred)"
   ]
  },
  {
   "cell_type": "code",
   "execution_count": 304,
   "metadata": {},
   "outputs": [],
   "source": [
    "def RidgeWithAlpha(alpha_val):\n",
    "    model = Ridge(solver='sag', alpha=alpha_val, random_state=42)\n",
    "    model.fit(X_train, y_train)\n",
    "    y_pred = model.predict(X_val)\n",
    "    rmse = mean_squared_error(y_val, y_pred)\n",
    "    return rmse"
   ]
  },
  {
   "cell_type": "code",
   "execution_count": 305,
   "metadata": {},
   "outputs": [
    {
     "name": "stdout",
     "output_type": "stream",
     "text": [
      "0\n"
     ]
    },
    {
     "name": "stderr",
     "output_type": "stream",
     "text": [
      "c:\\Users\\sasha\\AppData\\Local\\Programs\\Python\\Python311\\Lib\\site-packages\\sklearn\\linear_model\\_sag.py:350: ConvergenceWarning: The max_iter was reached which means the coef_ did not converge\n",
      "  warnings.warn(\n"
     ]
    },
    {
     "name": "stdout",
     "output_type": "stream",
     "text": [
      "0.23696870340512774\n",
      "\n",
      "0.01\n"
     ]
    },
    {
     "name": "stderr",
     "output_type": "stream",
     "text": [
      "c:\\Users\\sasha\\AppData\\Local\\Programs\\Python\\Python311\\Lib\\site-packages\\sklearn\\linear_model\\_sag.py:350: ConvergenceWarning: The max_iter was reached which means the coef_ did not converge\n",
      "  warnings.warn(\n"
     ]
    },
    {
     "name": "stdout",
     "output_type": "stream",
     "text": [
      "0.23696893578632247\n",
      "\n",
      "0.1\n"
     ]
    },
    {
     "name": "stderr",
     "output_type": "stream",
     "text": [
      "c:\\Users\\sasha\\AppData\\Local\\Programs\\Python\\Python311\\Lib\\site-packages\\sklearn\\linear_model\\_sag.py:350: ConvergenceWarning: The max_iter was reached which means the coef_ did not converge\n",
      "  warnings.warn(\n"
     ]
    },
    {
     "name": "stdout",
     "output_type": "stream",
     "text": [
      "0.23697102714938584\n",
      "\n",
      "1\n"
     ]
    },
    {
     "name": "stderr",
     "output_type": "stream",
     "text": [
      "c:\\Users\\sasha\\AppData\\Local\\Programs\\Python\\Python311\\Lib\\site-packages\\sklearn\\linear_model\\_sag.py:350: ConvergenceWarning: The max_iter was reached which means the coef_ did not converge\n",
      "  warnings.warn(\n"
     ]
    },
    {
     "name": "stdout",
     "output_type": "stream",
     "text": [
      "0.23699193506564448\n",
      "\n",
      "10\n",
      "0.23720044497398873\n",
      "\n"
     ]
    },
    {
     "name": "stderr",
     "output_type": "stream",
     "text": [
      "c:\\Users\\sasha\\AppData\\Local\\Programs\\Python\\Python311\\Lib\\site-packages\\sklearn\\linear_model\\_sag.py:350: ConvergenceWarning: The max_iter was reached which means the coef_ did not converge\n",
      "  warnings.warn(\n"
     ]
    }
   ],
   "source": [
    "for a in [0, 0.01, 0.1, 1, 10]:\n",
    "    print(a)\n",
    "    print(RidgeWithAlpha(a))\n",
    "    print()"
   ]
  }
 ],
 "metadata": {
  "kernelspec": {
   "display_name": "Python 3",
   "language": "python",
   "name": "python3"
  },
  "language_info": {
   "codemirror_mode": {
    "name": "ipython",
    "version": 3
   },
   "file_extension": ".py",
   "mimetype": "text/x-python",
   "name": "python",
   "nbconvert_exporter": "python",
   "pygments_lexer": "ipython3",
   "version": "3.11.4"
  },
  "orig_nbformat": 4
 },
 "nbformat": 4,
 "nbformat_minor": 2
}
