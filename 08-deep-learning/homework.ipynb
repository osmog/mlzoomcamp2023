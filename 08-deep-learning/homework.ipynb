{
 "cells": [
  {
   "cell_type": "markdown",
   "metadata": {},
   "source": [
    "### Model"
   ]
  },
  {
   "cell_type": "code",
   "execution_count": 1,
   "metadata": {
    "execution": {
     "iopub.execute_input": "2023-11-09T01:34:56.491116Z",
     "iopub.status.busy": "2023-11-09T01:34:56.490750Z",
     "iopub.status.idle": "2023-11-09T01:34:58.358623Z",
     "shell.execute_reply": "2023-11-09T01:34:58.358012Z",
     "shell.execute_reply.started": "2023-11-09T01:34:56.491085Z"
    },
    "tags": []
   },
   "outputs": [
    {
     "name": "stderr",
     "output_type": "stream",
     "text": [
      "2023-11-09 18:29:56.923461: I tensorflow/core/util/util.cc:169] oneDNN custom operations are on. You may see slightly different numerical results due to floating-point round-off errors from different computation orders. To turn them off, set the environment variable `TF_ENABLE_ONEDNN_OPTS=0`.\n"
     ]
    }
   ],
   "source": [
    "import tensorflow as tf\n",
    "from tensorflow import keras"
   ]
  },
  {
   "cell_type": "code",
   "execution_count": 11,
   "metadata": {
    "execution": {
     "iopub.execute_input": "2023-11-09T01:34:58.360235Z",
     "iopub.status.busy": "2023-11-09T01:34:58.359671Z",
     "iopub.status.idle": "2023-11-09T01:34:59.383923Z",
     "shell.execute_reply": "2023-11-09T01:34:59.383134Z",
     "shell.execute_reply.started": "2023-11-09T01:34:58.360202Z"
    },
    "tags": []
   },
   "outputs": [
    {
     "name": "stdout",
     "output_type": "stream",
     "text": [
      "Model: \"sequential_1\"\n",
      "_________________________________________________________________\n",
      " Layer (type)                Output Shape              Param #   \n",
      "=================================================================\n",
      " conv2d_1 (Conv2D)           (None, 148, 148, 32)      896       \n",
      "                                                                 \n",
      " max_pooling2d_1 (MaxPooling  (None, 74, 74, 32)       0         \n",
      " 2D)                                                             \n",
      "                                                                 \n",
      " flatten_1 (Flatten)         (None, 175232)            0         \n",
      "                                                                 \n",
      " dense_2 (Dense)             (None, 64)                11214912  \n",
      "                                                                 \n",
      " dense_3 (Dense)             (None, 1)                 65        \n",
      "                                                                 \n",
      "=================================================================\n",
      "Total params: 11,215,873\n",
      "Trainable params: 11,215,873\n",
      "Non-trainable params: 0\n",
      "_________________________________________________________________\n"
     ]
    }
   ],
   "source": [
    "model = tf.keras.models.Sequential([\n",
    "    keras.layers.Conv2D(filters=32, kernel_size=(3, 3), activation='relu', input_shape=(150, 150, 3)),\n",
    "    keras.layers.MaxPooling2D(pool_size=(2, 2)),\n",
    "    keras.layers.Flatten(),\n",
    "    keras.layers.Dense(64, activation='relu'),\n",
    "    keras.layers.Dense(1, activation='sigmoid')\n",
    "])\n",
    "\n",
    "optimizer = keras.optimizers.SGD(learning_rate=0.002, momentum=0.8)\n",
    "loss = keras.losses.BinaryCrossentropy()\n",
    "\n",
    "model.compile(optimizer=optimizer, loss=loss, metrics=['accuracy'])\n",
    "model.summary()"
   ]
  },
  {
   "cell_type": "markdown",
   "metadata": {},
   "source": [
    "### Question 1\n",
    "\n",
    "binary crossentropy"
   ]
  },
  {
   "cell_type": "markdown",
   "metadata": {},
   "source": [
    "### Question 2\n",
    "\n",
    "896"
   ]
  },
  {
   "cell_type": "markdown",
   "metadata": {},
   "source": [
    "### Question 3"
   ]
  },
  {
   "cell_type": "code",
   "execution_count": 3,
   "metadata": {
    "execution": {
     "iopub.execute_input": "2023-11-09T01:34:59.386745Z",
     "iopub.status.busy": "2023-11-09T01:34:59.386172Z",
     "iopub.status.idle": "2023-11-09T01:34:59.391507Z",
     "shell.execute_reply": "2023-11-09T01:34:59.390736Z",
     "shell.execute_reply.started": "2023-11-09T01:34:59.386690Z"
    }
   },
   "outputs": [],
   "source": [
    "from tensorflow.keras.preprocessing.image import ImageDataGenerator\n"
   ]
  },
  {
   "cell_type": "code",
   "execution_count": 4,
   "metadata": {
    "execution": {
     "iopub.execute_input": "2023-11-09T01:34:59.393185Z",
     "iopub.status.busy": "2023-11-09T01:34:59.392614Z",
     "iopub.status.idle": "2023-11-09T01:34:59.396618Z",
     "shell.execute_reply": "2023-11-09T01:34:59.395825Z",
     "shell.execute_reply.started": "2023-11-09T01:34:59.393140Z"
    }
   },
   "outputs": [],
   "source": [
    "image_gen = ImageDataGenerator(rescale=1./255)"
   ]
  },
  {
   "cell_type": "code",
   "execution_count": 5,
   "metadata": {
    "execution": {
     "iopub.execute_input": "2023-11-09T01:34:59.397738Z",
     "iopub.status.busy": "2023-11-09T01:34:59.397416Z",
     "iopub.status.idle": "2023-11-09T01:34:59.507588Z",
     "shell.execute_reply": "2023-11-09T01:34:59.506863Z",
     "shell.execute_reply.started": "2023-11-09T01:34:59.397694Z"
    }
   },
   "outputs": [
    {
     "name": "stdout",
     "output_type": "stream",
     "text": [
      "Found 3678 images belonging to 2 classes.\n"
     ]
    }
   ],
   "source": [
    "train_ds = image_gen.flow_from_directory(\n",
    "    './data/train',\n",
    "    target_size=(150, 150),\n",
    "    batch_size=20,\n",
    "    shuffle=True,\n",
    "    class_mode='binary'\n",
    ")"
   ]
  },
  {
   "cell_type": "code",
   "execution_count": 6,
   "metadata": {
    "execution": {
     "iopub.execute_input": "2023-11-09T01:34:59.509054Z",
     "iopub.status.busy": "2023-11-09T01:34:59.508695Z",
     "iopub.status.idle": "2023-11-09T01:34:59.537395Z",
     "shell.execute_reply": "2023-11-09T01:34:59.536649Z",
     "shell.execute_reply.started": "2023-11-09T01:34:59.509022Z"
    }
   },
   "outputs": [
    {
     "name": "stdout",
     "output_type": "stream",
     "text": [
      "Found 918 images belonging to 2 classes.\n"
     ]
    }
   ],
   "source": [
    "val_ds = image_gen.flow_from_directory(\n",
    "    './data/test',\n",
    "    target_size=(150, 150),\n",
    "    batch_size=20,\n",
    "    shuffle=True,\n",
    "    class_mode='binary'\n",
    ")"
   ]
  },
  {
   "cell_type": "code",
   "execution_count": 12,
   "metadata": {
    "execution": {
     "iopub.execute_input": "2023-11-09T01:34:59.538460Z",
     "iopub.status.busy": "2023-11-09T01:34:59.538149Z"
    }
   },
   "outputs": [
    {
     "name": "stdout",
     "output_type": "stream",
     "text": [
      "Epoch 1/10\n"
     ]
    },
    {
     "name": "stdout",
     "output_type": "stream",
     "text": [
      "184/184 [==============================] - 9s 49ms/step - loss: 0.6858 - accuracy: 0.5424 - val_loss: 0.6463 - val_accuracy: 0.6612\n",
      "Epoch 2/10\n",
      "184/184 [==============================] - 9s 49ms/step - loss: 0.6334 - accuracy: 0.6351 - val_loss: 0.5861 - val_accuracy: 0.6972\n",
      "Epoch 3/10\n",
      "184/184 [==============================] - 9s 48ms/step - loss: 0.5714 - accuracy: 0.7085 - val_loss: 0.5632 - val_accuracy: 0.7418\n",
      "Epoch 4/10\n",
      "184/184 [==============================] - 9s 49ms/step - loss: 0.5320 - accuracy: 0.7442 - val_loss: 0.5366 - val_accuracy: 0.7255\n",
      "Epoch 5/10\n",
      "184/184 [==============================] - 9s 49ms/step - loss: 0.4994 - accuracy: 0.7730 - val_loss: 0.5483 - val_accuracy: 0.7048\n",
      "Epoch 6/10\n",
      "184/184 [==============================] - 9s 48ms/step - loss: 0.4724 - accuracy: 0.7836 - val_loss: 0.5143 - val_accuracy: 0.7527\n",
      "Epoch 7/10\n",
      "184/184 [==============================] - 9s 49ms/step - loss: 0.4531 - accuracy: 0.8026 - val_loss: 0.5024 - val_accuracy: 0.7560\n",
      "Epoch 8/10\n",
      "184/184 [==============================] - 9s 49ms/step - loss: 0.4291 - accuracy: 0.8189 - val_loss: 0.5299 - val_accuracy: 0.7331\n",
      "Epoch 9/10\n",
      "184/184 [==============================] - 9s 50ms/step - loss: 0.3937 - accuracy: 0.8369 - val_loss: 0.4944 - val_accuracy: 0.7647\n",
      "Epoch 10/10\n",
      "184/184 [==============================] - 9s 48ms/step - loss: 0.3749 - accuracy: 0.8494 - val_loss: 0.5041 - val_accuracy: 0.7571\n"
     ]
    }
   ],
   "source": [
    "history = model.fit(\n",
    "    train_ds,\n",
    "    epochs=10,\n",
    "    validation_data=val_ds\n",
    ")"
   ]
  },
  {
   "cell_type": "code",
   "execution_count": 8,
   "metadata": {},
   "outputs": [],
   "source": [
    "import numpy as np\n",
    "import matplotlib.pyplot as plt\n",
    "\n",
    "%matplotlib inline"
   ]
  },
  {
   "cell_type": "code",
   "execution_count": 13,
   "metadata": {},
   "outputs": [
    {
     "data": {
      "text/plain": [
       "0.7782762348651886"
      ]
     },
     "execution_count": 13,
     "metadata": {},
     "output_type": "execute_result"
    }
   ],
   "source": [
    "np.median(history.history['accuracy'])"
   ]
  },
  {
   "cell_type": "markdown",
   "metadata": {},
   "source": [
    "#### Answer 0.80"
   ]
  },
  {
   "cell_type": "markdown",
   "metadata": {},
   "source": [
    "### Question 4"
   ]
  },
  {
   "cell_type": "code",
   "execution_count": 14,
   "metadata": {},
   "outputs": [
    {
     "data": {
      "text/plain": [
       "0.09654021486124015"
      ]
     },
     "execution_count": 14,
     "metadata": {},
     "output_type": "execute_result"
    }
   ],
   "source": [
    "np.std(history.history['loss'])"
   ]
  },
  {
   "cell_type": "markdown",
   "metadata": {},
   "source": [
    "#### Answer 0.31"
   ]
  }
 ],
 "metadata": {
  "kernelspec": {
   "display_name": "saturn (Python 3)",
   "language": "python",
   "name": "python3"
  },
  "language_info": {
   "codemirror_mode": {
    "name": "ipython",
    "version": 3
   },
   "file_extension": ".py",
   "mimetype": "text/x-python",
   "name": "python",
   "nbconvert_exporter": "python",
   "pygments_lexer": "ipython3",
   "version": "3.9.15"
  }
 },
 "nbformat": 4,
 "nbformat_minor": 4
}
