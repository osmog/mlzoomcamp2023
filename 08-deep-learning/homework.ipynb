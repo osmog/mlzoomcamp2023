{
 "cells": [
  {
   "cell_type": "markdown",
   "metadata": {},
   "source": [
    "### Model"
   ]
  },
  {
   "cell_type": "code",
   "execution_count": 1,
   "metadata": {
    "execution": {
     "iopub.execute_input": "2023-11-09T01:34:56.491116Z",
     "iopub.status.busy": "2023-11-09T01:34:56.490750Z",
     "iopub.status.idle": "2023-11-09T01:34:58.358623Z",
     "shell.execute_reply": "2023-11-09T01:34:58.358012Z",
     "shell.execute_reply.started": "2023-11-09T01:34:56.491085Z"
    },
    "tags": []
   },
   "outputs": [
    {
     "name": "stderr",
     "output_type": "stream",
     "text": [
      "2023-11-10 00:22:56.460455: I tensorflow/core/util/util.cc:169] oneDNN custom operations are on. You may see slightly different numerical results due to floating-point round-off errors from different computation orders. To turn them off, set the environment variable `TF_ENABLE_ONEDNN_OPTS=0`.\n"
     ]
    }
   ],
   "source": [
    "import tensorflow as tf\n",
    "from tensorflow import keras"
   ]
  },
  {
   "cell_type": "code",
   "execution_count": 2,
   "metadata": {
    "execution": {
     "iopub.execute_input": "2023-11-09T01:34:58.360235Z",
     "iopub.status.busy": "2023-11-09T01:34:58.359671Z",
     "iopub.status.idle": "2023-11-09T01:34:59.383923Z",
     "shell.execute_reply": "2023-11-09T01:34:59.383134Z",
     "shell.execute_reply.started": "2023-11-09T01:34:58.360202Z"
    },
    "tags": []
   },
   "outputs": [
    {
     "name": "stdout",
     "output_type": "stream",
     "text": [
      "Model: \"sequential\"\n",
      "_________________________________________________________________\n",
      " Layer (type)                Output Shape              Param #   \n",
      "=================================================================\n",
      " conv2d (Conv2D)             (None, 148, 148, 32)      896       \n",
      "                                                                 \n",
      " max_pooling2d (MaxPooling2D  (None, 74, 74, 32)       0         \n",
      " )                                                               \n",
      "                                                                 \n",
      " flatten (Flatten)           (None, 175232)            0         \n",
      "                                                                 \n",
      " dense (Dense)               (None, 64)                11214912  \n",
      "                                                                 \n",
      " dense_1 (Dense)             (None, 1)                 65        \n",
      "                                                                 \n",
      "=================================================================\n",
      "Total params: 11,215,873\n",
      "Trainable params: 11,215,873\n",
      "Non-trainable params: 0\n",
      "_________________________________________________________________\n"
     ]
    },
    {
     "name": "stderr",
     "output_type": "stream",
     "text": [
      "2023-11-10 00:22:58.189526: I tensorflow/stream_executor/cuda/cuda_gpu_executor.cc:975] successful NUMA node read from SysFS had negative value (-1), but there must be at least one NUMA node, so returning NUMA node zero\n",
      "2023-11-10 00:22:58.196315: I tensorflow/stream_executor/cuda/cuda_gpu_executor.cc:975] successful NUMA node read from SysFS had negative value (-1), but there must be at least one NUMA node, so returning NUMA node zero\n",
      "2023-11-10 00:22:58.196544: I tensorflow/stream_executor/cuda/cuda_gpu_executor.cc:975] successful NUMA node read from SysFS had negative value (-1), but there must be at least one NUMA node, so returning NUMA node zero\n",
      "2023-11-10 00:22:58.197218: I tensorflow/core/platform/cpu_feature_guard.cc:193] This TensorFlow binary is optimized with oneAPI Deep Neural Network Library (oneDNN) to use the following CPU instructions in performance-critical operations:  AVX2 AVX512F AVX512_VNNI FMA\n",
      "To enable them in other operations, rebuild TensorFlow with the appropriate compiler flags.\n",
      "2023-11-10 00:22:58.197649: I tensorflow/stream_executor/cuda/cuda_gpu_executor.cc:975] successful NUMA node read from SysFS had negative value (-1), but there must be at least one NUMA node, so returning NUMA node zero\n",
      "2023-11-10 00:22:58.197886: I tensorflow/stream_executor/cuda/cuda_gpu_executor.cc:975] successful NUMA node read from SysFS had negative value (-1), but there must be at least one NUMA node, so returning NUMA node zero\n",
      "2023-11-10 00:22:58.198068: I tensorflow/stream_executor/cuda/cuda_gpu_executor.cc:975] successful NUMA node read from SysFS had negative value (-1), but there must be at least one NUMA node, so returning NUMA node zero\n",
      "2023-11-10 00:22:58.797826: I tensorflow/stream_executor/cuda/cuda_gpu_executor.cc:975] successful NUMA node read from SysFS had negative value (-1), but there must be at least one NUMA node, so returning NUMA node zero\n",
      "2023-11-10 00:22:58.798074: I tensorflow/stream_executor/cuda/cuda_gpu_executor.cc:975] successful NUMA node read from SysFS had negative value (-1), but there must be at least one NUMA node, so returning NUMA node zero\n",
      "2023-11-10 00:22:58.798268: I tensorflow/stream_executor/cuda/cuda_gpu_executor.cc:975] successful NUMA node read from SysFS had negative value (-1), but there must be at least one NUMA node, so returning NUMA node zero\n",
      "2023-11-10 00:22:58.798442: I tensorflow/core/common_runtime/gpu/gpu_device.cc:1532] Created device /job:localhost/replica:0/task:0/device:GPU:0 with 13794 MB memory:  -> device: 0, name: Tesla T4, pci bus id: 0000:00:1e.0, compute capability: 7.5\n"
     ]
    }
   ],
   "source": [
    "model = tf.keras.models.Sequential([\n",
    "    keras.layers.Conv2D(filters=32, kernel_size=(3, 3), activation='relu', input_shape=(150, 150, 3)),\n",
    "    keras.layers.MaxPooling2D(pool_size=(2, 2)),\n",
    "    keras.layers.Flatten(),\n",
    "    keras.layers.Dense(64, activation='relu'),\n",
    "    keras.layers.Dense(1, activation='sigmoid')\n",
    "])\n",
    "\n",
    "optimizer = keras.optimizers.SGD(learning_rate=0.002, momentum=0.8)\n",
    "loss = keras.losses.BinaryCrossentropy()\n",
    "\n",
    "model.compile(optimizer=optimizer, loss=loss, metrics=['accuracy'])\n",
    "model.summary()"
   ]
  },
  {
   "cell_type": "markdown",
   "metadata": {},
   "source": [
    "### Question 1\n",
    "\n",
    "binary crossentropy"
   ]
  },
  {
   "cell_type": "markdown",
   "metadata": {},
   "source": [
    "### Question 2\n",
    "\n",
    "896"
   ]
  },
  {
   "cell_type": "markdown",
   "metadata": {},
   "source": [
    "### Question 3"
   ]
  },
  {
   "cell_type": "code",
   "execution_count": 3,
   "metadata": {
    "execution": {
     "iopub.execute_input": "2023-11-09T01:34:59.386745Z",
     "iopub.status.busy": "2023-11-09T01:34:59.386172Z",
     "iopub.status.idle": "2023-11-09T01:34:59.391507Z",
     "shell.execute_reply": "2023-11-09T01:34:59.390736Z",
     "shell.execute_reply.started": "2023-11-09T01:34:59.386690Z"
    }
   },
   "outputs": [],
   "source": [
    "from tensorflow.keras.preprocessing.image import ImageDataGenerator\n"
   ]
  },
  {
   "cell_type": "code",
   "execution_count": 4,
   "metadata": {
    "execution": {
     "iopub.execute_input": "2023-11-09T01:34:59.393185Z",
     "iopub.status.busy": "2023-11-09T01:34:59.392614Z",
     "iopub.status.idle": "2023-11-09T01:34:59.396618Z",
     "shell.execute_reply": "2023-11-09T01:34:59.395825Z",
     "shell.execute_reply.started": "2023-11-09T01:34:59.393140Z"
    }
   },
   "outputs": [],
   "source": [
    "image_gen = ImageDataGenerator(rescale=1./255)"
   ]
  },
  {
   "cell_type": "code",
   "execution_count": 5,
   "metadata": {
    "execution": {
     "iopub.execute_input": "2023-11-09T01:34:59.397738Z",
     "iopub.status.busy": "2023-11-09T01:34:59.397416Z",
     "iopub.status.idle": "2023-11-09T01:34:59.507588Z",
     "shell.execute_reply": "2023-11-09T01:34:59.506863Z",
     "shell.execute_reply.started": "2023-11-09T01:34:59.397694Z"
    }
   },
   "outputs": [
    {
     "name": "stdout",
     "output_type": "stream",
     "text": [
      "Found 3678 images belonging to 2 classes.\n"
     ]
    }
   ],
   "source": [
    "train_ds = image_gen.flow_from_directory(\n",
    "    './data/train',\n",
    "    target_size=(150, 150),\n",
    "    batch_size=20,\n",
    "    shuffle=True,\n",
    "    class_mode='binary'\n",
    ")"
   ]
  },
  {
   "cell_type": "code",
   "execution_count": 6,
   "metadata": {
    "execution": {
     "iopub.execute_input": "2023-11-09T01:34:59.509054Z",
     "iopub.status.busy": "2023-11-09T01:34:59.508695Z",
     "iopub.status.idle": "2023-11-09T01:34:59.537395Z",
     "shell.execute_reply": "2023-11-09T01:34:59.536649Z",
     "shell.execute_reply.started": "2023-11-09T01:34:59.509022Z"
    }
   },
   "outputs": [
    {
     "name": "stdout",
     "output_type": "stream",
     "text": [
      "Found 918 images belonging to 2 classes.\n"
     ]
    }
   ],
   "source": [
    "val_ds = image_gen.flow_from_directory(\n",
    "    './data/test',\n",
    "    target_size=(150, 150),\n",
    "    batch_size=20,\n",
    "    shuffle=True,\n",
    "    class_mode='binary'\n",
    ")"
   ]
  },
  {
   "cell_type": "code",
   "execution_count": 7,
   "metadata": {
    "execution": {
     "iopub.execute_input": "2023-11-09T01:34:59.538460Z",
     "iopub.status.busy": "2023-11-09T01:34:59.538149Z"
    }
   },
   "outputs": [
    {
     "name": "stdout",
     "output_type": "stream",
     "text": [
      "Epoch 1/10\n"
     ]
    },
    {
     "name": "stderr",
     "output_type": "stream",
     "text": [
      "2023-11-10 00:23:00.400424: I tensorflow/stream_executor/cuda/cuda_dnn.cc:384] Loaded cuDNN version 8100\n",
      "2023-11-10 00:23:01.020260: I tensorflow/core/platform/default/subprocess.cc:304] Start cannot spawn child process: No such file or directory\n",
      "2023-11-10 00:23:01.021185: I tensorflow/core/platform/default/subprocess.cc:304] Start cannot spawn child process: No such file or directory\n",
      "2023-11-10 00:23:01.021222: W tensorflow/stream_executor/gpu/asm_compiler.cc:80] Couldn't get ptxas version string: INTERNAL: Couldn't invoke ptxas --version\n",
      "2023-11-10 00:23:01.022095: I tensorflow/core/platform/default/subprocess.cc:304] Start cannot spawn child process: No such file or directory\n",
      "2023-11-10 00:23:01.022162: W tensorflow/stream_executor/gpu/redzone_allocator.cc:314] INTERNAL: Failed to launch ptxas\n",
      "Relying on driver to perform ptx compilation. \n",
      "Modify $PATH to customize ptxas location.\n",
      "This message will be only logged once.\n"
     ]
    },
    {
     "name": "stdout",
     "output_type": "stream",
     "text": [
      "184/184 [==============================] - 11s 46ms/step - loss: 0.6873 - accuracy: 0.5402 - val_loss: 0.6628 - val_accuracy: 0.6220\n",
      "Epoch 2/10\n",
      "184/184 [==============================] - 8s 46ms/step - loss: 0.6569 - accuracy: 0.6006 - val_loss: 0.6178 - val_accuracy: 0.6590\n",
      "Epoch 3/10\n",
      "184/184 [==============================] - 8s 46ms/step - loss: 0.6181 - accuracy: 0.6585 - val_loss: 0.5843 - val_accuracy: 0.6983\n",
      "Epoch 4/10\n",
      "184/184 [==============================] - 8s 46ms/step - loss: 0.5716 - accuracy: 0.7042 - val_loss: 0.5499 - val_accuracy: 0.7473\n",
      "Epoch 5/10\n",
      "184/184 [==============================] - 8s 46ms/step - loss: 0.5316 - accuracy: 0.7327 - val_loss: 0.5296 - val_accuracy: 0.7418\n",
      "Epoch 6/10\n",
      "184/184 [==============================] - 8s 46ms/step - loss: 0.5014 - accuracy: 0.7637 - val_loss: 0.5454 - val_accuracy: 0.7331\n",
      "Epoch 7/10\n",
      "184/184 [==============================] - 8s 46ms/step - loss: 0.4782 - accuracy: 0.7847 - val_loss: 0.5254 - val_accuracy: 0.7484\n",
      "Epoch 8/10\n",
      "184/184 [==============================] - 8s 45ms/step - loss: 0.4543 - accuracy: 0.7964 - val_loss: 0.5215 - val_accuracy: 0.7571\n",
      "Epoch 9/10\n",
      "184/184 [==============================] - 8s 45ms/step - loss: 0.4511 - accuracy: 0.8010 - val_loss: 0.5350 - val_accuracy: 0.7309\n",
      "Epoch 10/10\n",
      "184/184 [==============================] - 8s 46ms/step - loss: 0.4142 - accuracy: 0.8214 - val_loss: 0.5504 - val_accuracy: 0.7353\n"
     ]
    }
   ],
   "source": [
    "history = model.fit(\n",
    "    train_ds,\n",
    "    epochs=10,\n",
    "    validation_data=val_ds\n",
    ")"
   ]
  },
  {
   "cell_type": "code",
   "execution_count": 8,
   "metadata": {},
   "outputs": [],
   "source": [
    "import numpy as np\n",
    "import matplotlib.pyplot as plt\n",
    "\n",
    "%matplotlib inline"
   ]
  },
  {
   "cell_type": "code",
   "execution_count": 9,
   "metadata": {},
   "outputs": [
    {
     "data": {
      "text/plain": [
       "0.7482327222824097"
      ]
     },
     "execution_count": 9,
     "metadata": {},
     "output_type": "execute_result"
    }
   ],
   "source": [
    "np.median(history.history['accuracy'])"
   ]
  },
  {
   "cell_type": "markdown",
   "metadata": {},
   "source": [
    "#### Answer 0.80"
   ]
  },
  {
   "cell_type": "markdown",
   "metadata": {},
   "source": [
    "### Question 4"
   ]
  },
  {
   "cell_type": "code",
   "execution_count": 10,
   "metadata": {},
   "outputs": [
    {
     "data": {
      "text/plain": [
       "0.08876050539368432"
      ]
     },
     "execution_count": 10,
     "metadata": {},
     "output_type": "execute_result"
    }
   ],
   "source": [
    "np.std(history.history['loss'])"
   ]
  },
  {
   "cell_type": "markdown",
   "metadata": {},
   "source": [
    "#### Answer 0.31"
   ]
  },
  {
   "cell_type": "markdown",
   "metadata": {},
   "source": [
    "### Data Augumentation"
   ]
  },
  {
   "cell_type": "code",
   "execution_count": 11,
   "metadata": {},
   "outputs": [],
   "source": [
    "image_gen = ImageDataGenerator(rescale=1./255,\n",
    "                               rotation_range=50,\n",
    "                               width_shift_range=0.1,\n",
    "                                height_shift_range=0.1,\n",
    "                                zoom_range=0.1,\n",
    "                                horizontal_flip=True,\n",
    "                                fill_mode='nearest')"
   ]
  },
  {
   "cell_type": "code",
   "execution_count": 12,
   "metadata": {},
   "outputs": [
    {
     "name": "stdout",
     "output_type": "stream",
     "text": [
      "Found 3678 images belonging to 2 classes.\n"
     ]
    }
   ],
   "source": [
    "train_ds = image_gen.flow_from_directory(\n",
    "    './data/train',\n",
    "    target_size=(150, 150),\n",
    "    batch_size=20,\n",
    "    shuffle=True,\n",
    "    class_mode='binary'\n",
    ")"
   ]
  },
  {
   "cell_type": "code",
   "execution_count": 13,
   "metadata": {},
   "outputs": [
    {
     "name": "stdout",
     "output_type": "stream",
     "text": [
      "Found 918 images belonging to 2 classes.\n"
     ]
    }
   ],
   "source": [
    "val_ds = image_gen.flow_from_directory(\n",
    "    './data/test',\n",
    "    target_size=(150, 150),\n",
    "    batch_size=20,\n",
    "    shuffle=True,\n",
    "    class_mode='binary'\n",
    ")"
   ]
  },
  {
   "cell_type": "markdown",
   "metadata": {},
   "source": [
    "### Question 5"
   ]
  },
  {
   "cell_type": "code",
   "execution_count": 14,
   "metadata": {},
   "outputs": [
    {
     "name": "stdout",
     "output_type": "stream",
     "text": [
      "Epoch 1/10\n",
      "  1/184 [..............................] - ETA: 25s - loss: 0.4711 - accuracy: 0.8000"
     ]
    },
    {
     "name": "stdout",
     "output_type": "stream",
     "text": [
      "184/184 [==============================] - 27s 146ms/step - loss: 0.4948 - accuracy: 0.7667 - val_loss: 0.5596 - val_accuracy: 0.7179\n",
      "Epoch 2/10\n",
      "184/184 [==============================] - 27s 145ms/step - loss: 0.5001 - accuracy: 0.7643 - val_loss: 0.4994 - val_accuracy: 0.7636\n",
      "Epoch 3/10\n",
      "184/184 [==============================] - 27s 145ms/step - loss: 0.4796 - accuracy: 0.7792 - val_loss: 0.5103 - val_accuracy: 0.7625\n",
      "Epoch 4/10\n",
      "184/184 [==============================] - 27s 145ms/step - loss: 0.4755 - accuracy: 0.7904 - val_loss: 0.4796 - val_accuracy: 0.7756\n",
      "Epoch 5/10\n",
      "184/184 [==============================] - 27s 145ms/step - loss: 0.4665 - accuracy: 0.7874 - val_loss: 0.4804 - val_accuracy: 0.7832\n",
      "Epoch 6/10\n",
      "184/184 [==============================] - 27s 145ms/step - loss: 0.4701 - accuracy: 0.7849 - val_loss: 0.5029 - val_accuracy: 0.7691\n",
      "Epoch 7/10\n",
      "184/184 [==============================] - 27s 144ms/step - loss: 0.4685 - accuracy: 0.7868 - val_loss: 0.4890 - val_accuracy: 0.7702\n",
      "Epoch 8/10\n",
      "184/184 [==============================] - 27s 145ms/step - loss: 0.4663 - accuracy: 0.7817 - val_loss: 0.4884 - val_accuracy: 0.7614\n",
      "Epoch 9/10\n",
      "184/184 [==============================] - 27s 144ms/step - loss: 0.4552 - accuracy: 0.7904 - val_loss: 0.4586 - val_accuracy: 0.7756\n",
      "Epoch 10/10\n",
      "184/184 [==============================] - 27s 145ms/step - loss: 0.4557 - accuracy: 0.7882 - val_loss: 0.4680 - val_accuracy: 0.7800\n"
     ]
    }
   ],
   "source": [
    "history = model.fit(\n",
    "    train_ds,\n",
    "    epochs=10,\n",
    "    validation_data=val_ds\n",
    ")"
   ]
  },
  {
   "cell_type": "markdown",
   "metadata": {},
   "source": [
    "### Question 5"
   ]
  },
  {
   "cell_type": "code",
   "execution_count": 15,
   "metadata": {},
   "outputs": [
    {
     "data": {
      "text/plain": [
       "0.49362902343273163"
      ]
     },
     "execution_count": 15,
     "metadata": {},
     "output_type": "execute_result"
    }
   ],
   "source": [
    "np.mean(history.history['val_loss'])"
   ]
  },
  {
   "cell_type": "markdown",
   "metadata": {},
   "source": [
    "#### Answer 0.48"
   ]
  },
  {
   "cell_type": "markdown",
   "metadata": {},
   "source": [
    "### Question 6"
   ]
  },
  {
   "cell_type": "code",
   "execution_count": 24,
   "metadata": {},
   "outputs": [
    {
     "data": {
      "text/plain": [
       "0.771241819858551"
      ]
     },
     "execution_count": 24,
     "metadata": {},
     "output_type": "execute_result"
    }
   ],
   "source": [
    "np.average(history.history['val_accuracy'][5:])"
   ]
  },
  {
   "cell_type": "markdown",
   "metadata": {},
   "source": [
    "#### Answer 0.78"
   ]
  }
 ],
 "metadata": {
  "kernelspec": {
   "display_name": "saturn (Python 3)",
   "language": "python",
   "name": "python3"
  },
  "language_info": {
   "codemirror_mode": {
    "name": "ipython",
    "version": 3
   },
   "file_extension": ".py",
   "mimetype": "text/x-python",
   "name": "python",
   "nbconvert_exporter": "python",
   "pygments_lexer": "ipython3",
   "version": "3.9.15"
  }
 },
 "nbformat": 4,
 "nbformat_minor": 4
}
