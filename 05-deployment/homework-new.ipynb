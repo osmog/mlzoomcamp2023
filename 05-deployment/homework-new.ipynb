{
 "cells": [
  {
   "cell_type": "markdown",
   "id": "26dd7add-3ec0-4f4d-9105-9aab20b3cbfc",
   "metadata": {},
   "source": [
    "### Question 1"
   ]
  },
  {
   "cell_type": "code",
   "execution_count": 1,
   "id": "51e84015-f0e2-4a4a-85df-8e56cebe6c6f",
   "metadata": {},
   "outputs": [
    {
     "name": "stdout",
     "output_type": "stream",
     "text": [
      "\u001b[1mpipenv\u001b[0m, version 2023.10.3\n"
     ]
    }
   ],
   "source": [
    "!pipenv --version"
   ]
  },
  {
   "cell_type": "markdown",
   "id": "7ae26537-1a62-4df9-a223-4ac8f7bb6729",
   "metadata": {},
   "source": [
    "### Question 2"
   ]
  },
  {
   "cell_type": "markdown",
   "id": "8872f8fa-3ded-4114-856b-9dfddcd5ed88",
   "metadata": {},
   "source": [
    "sha256:0c275a06c5190c5ce00af0acbb61c06374087949f643ef32d355ece12c4db043"
   ]
  },
  {
   "cell_type": "code",
   "execution_count": 2,
   "id": "5004e920-ee14-4322-8b9e-01a7ecf3c77d",
   "metadata": {},
   "outputs": [
    {
     "name": "stdout",
     "output_type": "stream",
     "text": [
      "Python 3.10.13\n"
     ]
    }
   ],
   "source": [
    "!python --version"
   ]
  },
  {
   "cell_type": "markdown",
   "id": "8f3e1800-4cd1-4b9c-a763-67eef3e8e6d0",
   "metadata": {},
   "source": [
    "### Question 3"
   ]
  },
  {
   "cell_type": "code",
   "execution_count": 3,
   "id": "80cdc244-c481-42b4-9a93-9e8e794ad17e",
   "metadata": {},
   "outputs": [],
   "source": [
    "import pickle\n",
    "\n",
    "model_file = 'model1.bin'\n",
    "\n",
    "with open(model_file, 'rb') as f_in:\n",
    "    model = pickle.load(f_in)\n",
    "\n",
    "dv_file = 'dv.bin'\n",
    "\n",
    "with open(dv_file, 'rb') as f_in:\n",
    "    dv = pickle.load(f_in)"
   ]
  },
  {
   "cell_type": "code",
   "execution_count": 4,
   "id": "04edd301-be3f-40a5-92ee-25692d7687e5",
   "metadata": {},
   "outputs": [],
   "source": [
    "client = {\"job\": \"retired\", \"duration\": 445, \"poutcome\": \"success\"}"
   ]
  },
  {
   "cell_type": "code",
   "execution_count": 5,
   "id": "b3b386f8-c8e1-4702-a71f-dadf262588d6",
   "metadata": {},
   "outputs": [
    {
     "data": {
      "text/plain": [
       "0.902"
      ]
     },
     "execution_count": 5,
     "metadata": {},
     "output_type": "execute_result"
    }
   ],
   "source": [
    "X = dv.transform([client])\n",
    "y_pred = model.predict_proba(X)[0, 1]\n",
    "round(y_pred, 3)"
   ]
  },
  {
   "cell_type": "markdown",
   "id": "02aab946-b9cc-412b-bbb5-e01bcffa30a5",
   "metadata": {},
   "source": [
    "### Question 4"
   ]
  },
  {
   "cell_type": "code",
   "execution_count": 7,
   "id": "3ca2822e",
   "metadata": {},
   "outputs": [
    {
     "data": {
      "text/plain": [
       "{'credit_probability': 0.14}"
      ]
     },
     "execution_count": 7,
     "metadata": {},
     "output_type": "execute_result"
    }
   ],
   "source": [
    "import requests \n",
    "url = \"http://127.0.0.1:9696/predict\"\n",
    "client = {\"job\": \"unknown\", \"duration\": 270, \"poutcome\": \"failure\"}\n",
    "requests.post(url, json=client).json()"
   ]
  },
  {
   "cell_type": "markdown",
   "id": "d7306656",
   "metadata": {},
   "source": [
    "### Question 5"
   ]
  },
  {
   "cell_type": "code",
   "execution_count": 13,
   "id": "f30cf60f",
   "metadata": {},
   "outputs": [
    {
     "name": "stdout",
     "output_type": "stream",
     "text": [
      "[sudo] password for mogos: REPOSITORY                       TAG                     IMAGE ID       CREATED         SIZE\n",
      "zoomcamp-w5                      latest                  ff7aa1b46efb   3 days ago      502MB\n",
      "<none>                           <none>                  dae967aac77c   3 days ago      502MB\n",
      "svizor/zoomcamp-model            3.10.12-slim            08266c8f0c4b   7 days ago      147MB\n",
      "ddd.frontdesk.blazor             latest                  cff858788360   9 months ago    279MB\n",
      "ddd.clinicmanagement.blazor      latest                  fecf8cb95489   9 months ago    263MB\n",
      "ddd.clinicmanagement.api         latest                  4599126d216c   9 months ago    253MB\n",
      "ddd.frontdesk.api                latest                  5b825c423f6c   9 months ago    257MB\n",
      "ddd.vet-clinic-public            latest                  455d72f02260   9 months ago    212MB\n",
      "<none>                           <none>                  e085f18ae971   9 months ago    185MB\n",
      "rabbitmq                         3-management-alpine     66965248a9cb   10 months ago   175MB\n",
      "python                           3.8.12-slim             513da2530098   19 months ago   122MB\n",
      "mcr.microsoft.com/mssql/server   2019-CU3-ubuntu-18.04   3c7ee124fdd6   3 years ago     1.46GB\n",
      "jijiechen/papercut               latest                  e836d784481e   5 years ago     249MB\n"
     ]
    }
   ],
   "source": [
    "!sudo -S docker images < ~/password.txt"
   ]
  },
  {
   "cell_type": "markdown",
   "id": "8870baed",
   "metadata": {},
   "source": [
    "Answer: 147 MB"
   ]
  }
 ],
 "metadata": {
  "kernelspec": {
   "display_name": "Python 3 (ipykernel)",
   "language": "python",
   "name": "python3"
  },
  "language_info": {
   "codemirror_mode": {
    "name": "ipython",
    "version": 3
   },
   "file_extension": ".py",
   "mimetype": "text/x-python",
   "name": "python",
   "nbconvert_exporter": "python",
   "pygments_lexer": "ipython3",
   "version": "3.10.13"
  }
 },
 "nbformat": 4,
 "nbformat_minor": 5
}
