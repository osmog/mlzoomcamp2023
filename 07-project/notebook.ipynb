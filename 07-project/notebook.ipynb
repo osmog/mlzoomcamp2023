{
 "cells": [
  {
   "cell_type": "markdown",
   "metadata": {},
   "source": [
    "### Load dataset"
   ]
  },
  {
   "cell_type": "code",
   "execution_count": 30,
   "metadata": {},
   "outputs": [],
   "source": [
    "import pandas as pd"
   ]
  },
  {
   "cell_type": "code",
   "execution_count": 31,
   "metadata": {},
   "outputs": [],
   "source": [
    "df_name = 'Car Ownership.csv'\n",
    "df = pd.read_csv(df_name)"
   ]
  },
  {
   "cell_type": "code",
   "execution_count": 32,
   "metadata": {},
   "outputs": [
    {
     "data": {
      "text/html": [
       "<div>\n",
       "<style scoped>\n",
       "    .dataframe tbody tr th:only-of-type {\n",
       "        vertical-align: middle;\n",
       "    }\n",
       "\n",
       "    .dataframe tbody tr th {\n",
       "        vertical-align: top;\n",
       "    }\n",
       "\n",
       "    .dataframe thead th {\n",
       "        text-align: right;\n",
       "    }\n",
       "</style>\n",
       "<table border=\"1\" class=\"dataframe\">\n",
       "  <thead>\n",
       "    <tr style=\"text-align: right;\">\n",
       "      <th></th>\n",
       "      <th>Occupation</th>\n",
       "      <th>Monthly Income</th>\n",
       "      <th>Credit Score</th>\n",
       "      <th>Years of Employment</th>\n",
       "      <th>Finance Status</th>\n",
       "      <th>Finance History</th>\n",
       "      <th>Car</th>\n",
       "      <th>Number of Children</th>\n",
       "    </tr>\n",
       "  </thead>\n",
       "  <tbody>\n",
       "    <tr>\n",
       "      <th>0</th>\n",
       "      <td>Teacher</td>\n",
       "      <td>40000</td>\n",
       "      <td>750.0</td>\n",
       "      <td>10</td>\n",
       "      <td>Good</td>\n",
       "      <td>No issues</td>\n",
       "      <td>Yes</td>\n",
       "      <td>2</td>\n",
       "    </tr>\n",
       "    <tr>\n",
       "      <th>1</th>\n",
       "      <td>Engineer</td>\n",
       "      <td>60000</td>\n",
       "      <td>800.0</td>\n",
       "      <td>8</td>\n",
       "      <td>Good</td>\n",
       "      <td>No issues</td>\n",
       "      <td>Yes</td>\n",
       "      <td>1</td>\n",
       "    </tr>\n",
       "    <tr>\n",
       "      <th>2</th>\n",
       "      <td>Nurse</td>\n",
       "      <td>25000</td>\n",
       "      <td>650.0</td>\n",
       "      <td>5</td>\n",
       "      <td>Fair</td>\n",
       "      <td>Late payment 2 months ago</td>\n",
       "      <td>No</td>\n",
       "      <td>0</td>\n",
       "    </tr>\n",
       "    <tr>\n",
       "      <th>3</th>\n",
       "      <td>Doctor</td>\n",
       "      <td>80000</td>\n",
       "      <td>900.0</td>\n",
       "      <td>12</td>\n",
       "      <td>Excellent</td>\n",
       "      <td>No issues</td>\n",
       "      <td>Yes</td>\n",
       "      <td>3</td>\n",
       "    </tr>\n",
       "    <tr>\n",
       "      <th>4</th>\n",
       "      <td>Businessman</td>\n",
       "      <td>100000</td>\n",
       "      <td>700.0</td>\n",
       "      <td>15</td>\n",
       "      <td>Good</td>\n",
       "      <td>Late payment 6 months ago</td>\n",
       "      <td>Yes</td>\n",
       "      <td>2</td>\n",
       "    </tr>\n",
       "  </tbody>\n",
       "</table>\n",
       "</div>"
      ],
      "text/plain": [
       "    Occupation Monthly Income  Credit Score Years of Employment  \\\n",
       "0      Teacher          40000         750.0                  10   \n",
       "1     Engineer          60000         800.0                   8   \n",
       "2        Nurse          25000         650.0                   5   \n",
       "3       Doctor          80000         900.0                  12   \n",
       "4  Businessman         100000         700.0                  15   \n",
       "\n",
       "  Finance Status            Finance History  Car Number of Children  \n",
       "0           Good                  No issues  Yes                  2  \n",
       "1           Good                  No issues  Yes                  1  \n",
       "2           Fair  Late payment 2 months ago   No                  0  \n",
       "3      Excellent                  No issues  Yes                  3  \n",
       "4           Good  Late payment 6 months ago  Yes                  2  "
      ]
     },
     "execution_count": 32,
     "metadata": {},
     "output_type": "execute_result"
    }
   ],
   "source": [
    "df.head()"
   ]
  },
  {
   "cell_type": "markdown",
   "metadata": {},
   "source": [
    "### Data normalization"
   ]
  },
  {
   "cell_type": "code",
   "execution_count": 33,
   "metadata": {},
   "outputs": [],
   "source": [
    "df.columns = df.columns.str.lower().str.replace(' ', '_')"
   ]
  },
  {
   "cell_type": "code",
   "execution_count": 34,
   "metadata": {},
   "outputs": [
    {
     "data": {
      "text/plain": [
       "Index(['occupation', 'monthly_income', 'credit_score', 'years_of_employment',\n",
       "       'finance_status', 'finance_history', 'car', 'number_of_children'],\n",
       "      dtype='object')"
      ]
     },
     "execution_count": 34,
     "metadata": {},
     "output_type": "execute_result"
    }
   ],
   "source": [
    "df.columns"
   ]
  },
  {
   "cell_type": "code",
   "execution_count": 35,
   "metadata": {},
   "outputs": [],
   "source": [
    "df = df[df.occupation.isna()!=True]"
   ]
  },
  {
   "cell_type": "code",
   "execution_count": 36,
   "metadata": {},
   "outputs": [],
   "source": [
    "df = df[df.car.isna()!=True]"
   ]
  },
  {
   "cell_type": "code",
   "execution_count": 40,
   "metadata": {},
   "outputs": [
    {
     "data": {
      "text/plain": [
       "occupation              0\n",
       "monthly_income          2\n",
       "credit_score           24\n",
       "years_of_employment    26\n",
       "finance_status          6\n",
       "finance_history        11\n",
       "car                     0\n",
       "number_of_children      0\n",
       "dtype: int64"
      ]
     },
     "execution_count": 40,
     "metadata": {},
     "output_type": "execute_result"
    }
   ],
   "source": [
    "df.number_of_children = df.number_of_children.fillna(0)"
   ]
  },
  {
   "cell_type": "code",
   "execution_count": 53,
   "metadata": {},
   "outputs": [],
   "source": [
    "df.monthly_income = df.monthly_income.str.lower().str.replace('$','').str.replace(',','').str.replace('.', '').str.replace(' ', '').str.replace('usd','').str.replace('k', '000')"
   ]
  },
  {
   "cell_type": "code",
   "execution_count": 67,
   "metadata": {},
   "outputs": [],
   "source": [
    "mean_monthly_income = df.monthly_income[df.monthly_income.isna() != True].astype(int).mean()\n",
    "df.monthly_income = df.monthly_income.fillna(mean_monthly_income)\n",
    "df.monthly_income = df.monthly_income.astype(int)"
   ]
  },
  {
   "cell_type": "code",
   "execution_count": 69,
   "metadata": {},
   "outputs": [
    {
     "data": {
      "text/plain": [
       "occupation              object\n",
       "monthly_income           int64\n",
       "credit_score           float64\n",
       "years_of_employment     object\n",
       "finance_status          object\n",
       "finance_history         object\n",
       "car                     object\n",
       "number_of_children      object\n",
       "dtype: object"
      ]
     },
     "execution_count": 69,
     "metadata": {},
     "output_type": "execute_result"
    }
   ],
   "source": [
    "df.dtypes"
   ]
  }
 ],
 "metadata": {
  "kernelspec": {
   "display_name": "Python 3",
   "language": "python",
   "name": "python3"
  },
  "language_info": {
   "codemirror_mode": {
    "name": "ipython",
    "version": 3
   },
   "file_extension": ".py",
   "mimetype": "text/x-python",
   "name": "python",
   "nbconvert_exporter": "python",
   "pygments_lexer": "ipython3",
   "version": "3.11.4"
  }
 },
 "nbformat": 4,
 "nbformat_minor": 2
}
