{
 "cells": [
  {
   "cell_type": "markdown",
   "metadata": {},
   "source": [
    "## This notebook I used to create a small dataset out of the original dataset.\n",
    "### The original dataset was copied to ./data/big"
   ]
  },
  {
   "cell_type": "code",
   "execution_count": 1,
   "metadata": {},
   "outputs": [],
   "source": [
    "import os"
   ]
  },
  {
   "cell_type": "code",
   "execution_count": 8,
   "metadata": {},
   "outputs": [
    {
     "name": "stdout",
     "output_type": "stream",
     "text": [
      "./data/big/train\n",
      "./data/big/train/Tomato_Yellow_Leaf_Curl_Virus\n",
      "./data/big/train/Late_blight\n",
      "./data/big/train/powdery_mildew\n",
      "./data/big/train/Target_Spot\n",
      "./data/big/train/Septoria_leaf_spot\n",
      "./data/big/train/Bacterial_spot\n",
      "./data/big/train/Early_blight\n",
      "./data/big/train/Tomato_mosaic_virus\n",
      "./data/big/train/Spider_mites Two-spotted_spider_mite\n",
      "./data/big/train/Leaf_Mold\n",
      "./data/big/train/healthy\n"
     ]
    }
   ],
   "source": [
    "for dirname, _, filenames in os.walk('./data/big/train'):\n",
    "    print(dirname)"
   ]
  },
  {
   "cell_type": "code",
   "execution_count": 18,
   "metadata": {},
   "outputs": [],
   "source": [
    "\n",
    "import shutil\n",
    "folder_big_train = './data/big/train'\n",
    "folder_small_train = './data/small/train'\n",
    "\n",
    "def create_small_data(src, dst, count):\n",
    "    for dirname, _, filenames in os.walk(src):\n",
    "        _, classname = os.path.split(dirname)\n",
    "        if (classname == 'train' or classname == 'valid'):\n",
    "            continue\n",
    "        try:\n",
    "            os.mkdir(os.path.join(dst, classname))\n",
    "        except FileExistsError:\n",
    "            continue\n",
    "        for filename in filenames[:count]:\n",
    "            shutil.copyfile(os.path.join(dirname, filename), os.path.join(dst, classname, filename))\n",
    "        \n",
    "            \n"
   ]
  },
  {
   "cell_type": "code",
   "execution_count": 17,
   "metadata": {},
   "outputs": [],
   "source": [
    "create_small_data(folder_big_train, folder_small_train, 50)"
   ]
  },
  {
   "cell_type": "code",
   "execution_count": 19,
   "metadata": {},
   "outputs": [],
   "source": [
    "folder_big_valid = './data/big/valid'\n",
    "folder_small_valid = './data/small/valid'\n",
    "create_small_data(folder_big_valid, folder_small_valid, 25)"
   ]
  }
 ],
 "metadata": {
  "kernelspec": {
   "display_name": "capstone1-TCEk8QZo",
   "language": "python",
   "name": "python3"
  },
  "language_info": {
   "codemirror_mode": {
    "name": "ipython",
    "version": 3
   },
   "file_extension": ".py",
   "mimetype": "text/x-python",
   "name": "python",
   "nbconvert_exporter": "python",
   "pygments_lexer": "ipython3",
   "version": "3.8.0"
  }
 },
 "nbformat": 4,
 "nbformat_minor": 2
}
